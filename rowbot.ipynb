{
 "cells": [
  {
   "cell_type": "code",
   "execution_count": 1,
   "id": "c1c2ec97-b25b-48a9-a1d8-afd79558f9a2",
   "metadata": {},
   "outputs": [],
   "source": [
    "import sympy as sm\n",
    "import sympy.physics.mechanics as me\n",
    "me.init_vprinting()"
   ]
  },
  {
   "cell_type": "code",
   "execution_count": 2,
   "id": "991ea2da-1807-43a0-a9f5-2752bd56ac59",
   "metadata": {},
   "outputs": [],
   "source": [
    "# lim lengths\n",
    "lower_leg_length, upper_leg_length, torso_length = sm.symbols('l_L, l_U, l_T')\n",
    "\n",
    "# lim masses\n",
    "lower_leg_mass, upper_leg_mass, torso_mass = sm.symbols('m_L, m_U, m_T')\n",
    "\n",
    "# joint angles\n",
    "theta1, theta2, theta3 = me.dynamicsymbols('theta1, theta2, theta3')\n",
    "\n",
    "# joint torques\n",
    "ankle_torque, knee_torque, hip_torque = me.dynamicsymbols('T_a, T_k, T_h')\n",
    "\n",
    "# Center of mass (com)\n",
    "lower_leg_com_length, upper_leg_com_length, torso_com_length = sm.symbols('d_L, d_U, d_T')\n",
    "torso_com_leght = torso_length / 2\n",
    "\n",
    "# joint angle velocities\n",
    "omega1, omega2, omega3 = me.dynamicsymbols('omega1, omega2, omega3')\n",
    "\n",
    "# physics symbos\n",
    "g = sm.symbols('g')"
   ]
  },
  {
   "cell_type": "markdown",
   "id": "f3f4cbd5-356f-4ae6-8e1e-cd446438c366",
   "metadata": {},
   "source": [
    "# Reference frames"
   ]
  },
  {
   "cell_type": "code",
   "execution_count": 3,
   "id": "cebc3061-98d0-48bd-b60e-5f4023a5e120",
   "metadata": {},
   "outputs": [],
   "source": [
    "# define frames\n",
    "inertial_frame = me.ReferenceFrame('N')  # boat\n",
    "lower_leg_frame = me.ReferenceFrame('L')  # lower leg\n",
    "upper_leg_frame = me.ReferenceFrame('U')  # upper leg \n",
    "torso_frame = me.ReferenceFrame('T')  # torso\n",
    "\n",
    "# place frames in relation\n",
    "lower_leg_frame.orient(inertial_frame, 'Axis', (theta1, inertial_frame.z))\n",
    "upper_leg_frame.orient(lower_leg_frame, 'Axis', (theta2, lower_leg_frame.z))\n",
    "torso_frame.orient(upper_leg_frame, 'Axis', (theta3, upper_leg_frame.z))\n"
   ]
  },
  {
   "cell_type": "code",
   "execution_count": 4,
   "id": "2fc3da46-ee92-40c3-81e1-213938245e5e",
   "metadata": {},
   "outputs": [],
   "source": [
    "# define points\n",
    "ankle = me.Point('P_an')\n",
    "knee = me.Point('P_kn')\n",
    "hip = me.Point('P_hi')\n",
    "head = me.Point('P_No')  # N for Noggin\n",
    "\n",
    "lower_leg_mass_center = me.Point('L_o')\n",
    "upper_leg_mass_center = me.Point('U_o')\n",
    "torso_mass_center = me.Point('T_o')\n",
    "\n",
    "# place points in relation\n",
    "knee.set_pos(ankle, lower_leg_length * lower_leg_frame.y)\n",
    "hip.set_pos(knee, upper_leg_length * upper_leg_frame.y)\n",
    "head.set_pos(hip, torso_length * torso_frame.y)\n",
    "\n",
    "lower_leg_mass_center.set_pos(ankle, lower_leg_com_length * lower_leg_frame.y)\n",
    "upper_leg_mass_center.set_pos(knee, upper_leg_com_length * upper_leg_frame.y)\n",
    "torso_mass_center.set_pos(hip, torso_com_length * torso_frame.y)\n"
   ]
  },
  {
   "cell_type": "markdown",
   "id": "cd1b199f-444e-4e86-bcb9-05e3bda957c0",
   "metadata": {},
   "source": [
    "# Inertias"
   ]
  },
  {
   "cell_type": "code",
   "execution_count": 5,
   "id": "3af54c08-bdee-481b-99ff-a6c5b9dc1415",
   "metadata": {},
   "outputs": [],
   "source": [
    "boat_inertia, lower_leg_inertia, upper_leg_inertia, torso_inertia = sm.symbols('I_Bz, I_Lz, I_Uz, I_Tz')\n",
    "\n",
    "boat_inertia_dyadic = me.inertia(inertial_frame, 0, 0, boat_inertia)\n",
    "\n",
    "lower_leg_inertia_dyadic = me.inertia(lower_leg_frame, 0, 0, lower_leg_inertia)\n",
    "# lower_leg_central_inertia = (lower_leg_inertia_dyadic, lower_leg_mass_center)\n",
    "\n",
    "upper_leg_inertia_dyadic = me.inertia(upper_leg_frame, 0, 0, upper_leg_inertia)\n",
    "# upper_leg_central_inertia = (upper_leg_inertia_dyadic, upper_leg_mass_center)\n",
    "\n",
    "torso_inertia_dyadic = me.inertia(torso_frame, 0, 0, torso_inertia)\n",
    "# torso_central_inertia = (torso_inertia_dyadic, torso_mass_center)"
   ]
  },
  {
   "cell_type": "markdown",
   "id": "7c70fcc4-d980-4a1e-8537-46fe5672ed2e",
   "metadata": {},
   "source": [
    "# Bodies"
   ]
  },
  {
   "cell_type": "code",
   "execution_count": 16,
   "id": "b69e4ecd-7e1c-459a-9d88-7785f14b4936",
   "metadata": {},
   "outputs": [],
   "source": [
    "boat = me.Body(\"boat\", \n",
    "               frame=inertial_frame,\n",
    "               central_inertia=boat_inertia_dyadic)  # fixed brame\n",
    "lower_leg = me.Body(\"lower_leg\", \n",
    "                    mass=lower_leg_mass, \n",
    "                    masscenter = lower_leg_mass_center,\n",
    "                    central_inertia=lower_leg_inertia_dyadic)\n",
    "upper_leg = me.Body(\"upper_leg\", \n",
    "                    mass=upper_leg_mass,\n",
    "                    masscenter= upper_leg_mass_center,\n",
    "                    central_inertia=upper_leg_inertia_dyadic)\n",
    "torso = me.Body(\"torso\", \n",
    "                mass=torso_mass, \n",
    "                masscenter = torso_mass_center,\n",
    "                central_inertia=torso_inertia_dyadic)\n",
    "\n",
    "bodies = (boat, lower_leg, upper_leg, torso)"
   ]
  },
  {
   "cell_type": "markdown",
   "id": "3824d83e-2204-4471-a316-8082b4513874",
   "metadata": {},
   "source": [
    "# Joints"
   ]
  },
  {
   "cell_type": "code",
   "execution_count": 18,
   "id": "b0ebca41-19e7-45e1-bcff-2ab84503d47a",
   "metadata": {},
   "outputs": [
    {
     "data": {
      "text/plain": [
       "(PinJoint: angle  parent: boat  child: lower_leg,\n",
       " PinJoint: knee  parent: lower_leg  child: upper_leg,\n",
       " PinJoint: hip  parent: upper_leg  child: torso)"
      ]
     },
     "execution_count": 18,
     "metadata": {},
     "output_type": "execute_result"
    }
   ],
   "source": [
    "angle_joint = me.PinJoint('angle', boat, lower_leg, \n",
    "                          coordinates=theta1, speeds=omega1,\n",
    "                          parent_point=boat.masscenter,\n",
    "                          child_point=lower_leg.masscenter,\n",
    "                          joint_axis=boat.z)\n",
    "knee_joint  = me.PinJoint('knee', lower_leg, upper_leg, \n",
    "                          coordinates=theta2, speeds=omega2,\n",
    "                          parent_point=lower_leg.masscenter,\n",
    "                          child_point=upper_leg.masscenter)\n",
    "hip_joint   = me.PinJoint('hip', upper_leg, torso, \n",
    "                          coordinates=theta3, speeds=omega3,\n",
    "                          parent_point=upper_leg.masscenter,\n",
    "                          child_point=torso.masscenter)\n",
    "# hip_joint = me.PrismaticJoint('hip', upper_leg, torso, speeds=omega3)\n",
    "\n",
    "joints = (angle_joint, knee_joint, hip_joint)\n",
    "joints"
   ]
  },
  {
   "cell_type": "markdown",
   "id": "c7c1746f-7b27-491d-ae3a-a626b8b92a45",
   "metadata": {},
   "source": [
    "# Forces"
   ]
  },
  {
   "cell_type": "markdown",
   "id": "649b7754-6c1e-45d5-8077-87fa3843ba1b",
   "metadata": {},
   "source": [
    "### Torques"
   ]
  },
  {
   "cell_type": "code",
   "execution_count": 19,
   "id": "724bfb3f-f520-47b4-bde8-aafca452cf86",
   "metadata": {},
   "outputs": [],
   "source": [
    "lower_leg.apply_torque(ankle_torque * lower_leg_frame.z, reaction_body=boat)\n",
    "upper_leg.apply_torque(knee_torque * upper_leg_frame.z, reaction_body=lower_leg)\n",
    "torso.apply_torque(hip_torque * torso_frame.z, reaction_body=upper_leg)"
   ]
  },
  {
   "cell_type": "code",
   "execution_count": null,
   "id": "8bbc342d-c31b-42de-838e-fd4a586d124f",
   "metadata": {},
   "outputs": [],
   "source": []
  },
  {
   "cell_type": "markdown",
   "id": "0868f64a-5675-44b7-a998-6f31100ca552",
   "metadata": {},
   "source": [
    "### Grafity forces"
   ]
  },
  {
   "cell_type": "code",
   "execution_count": 20,
   "id": "97fe052a-8ca4-4eb4-a355-98d697a1af52",
   "metadata": {},
   "outputs": [],
   "source": [
    "lower_leg_grav_force = lower_leg_mass * g * inertial_frame.y\n",
    "upper_leg_grav_force = upper_leg_mass * g * inertial_frame.y\n",
    "torso_grav_force = lower_leg_mass * g * inertial_frame.y\n",
    "\n",
    "lower_leg.apply_force(lower_leg_grav_force)\n",
    "upper_leg.apply_force(upper_leg_grav_force)\n",
    "torso.apply_force(torso_grav_force)"
   ]
  },
  {
   "cell_type": "markdown",
   "id": "7c173523-c524-4bf3-bbc6-ab66934bbd34",
   "metadata": {},
   "source": [
    "### Total forces"
   ]
  },
  {
   "cell_type": "code",
   "execution_count": 21,
   "id": "02c1b34d-1287-479e-8f65-2def2a4cb7bf",
   "metadata": {},
   "outputs": [
    {
     "data": {
      "text/plain": [
       "(upper_leg_frame, T_k(t)*U.z - T_h(t)*T.z)"
      ]
     },
     "execution_count": 21,
     "metadata": {},
     "output_type": "execute_result"
    }
   ],
   "source": [
    "# loads = [ ankle_torque, knee_torque, hip_torque, lower_leg_grav_force, upper_leg_grav_force, torso_grav_force]\n",
    "upper_leg.loads[0]"
   ]
  },
  {
   "cell_type": "markdown",
   "id": "d92f5884-72a8-412c-a080-24993ce14298",
   "metadata": {},
   "source": [
    "# Method"
   ]
  },
  {
   "cell_type": "code",
   "execution_count": 22,
   "id": "41f26421-e9e2-4693-8c84-ec52363f305a",
   "metadata": {},
   "outputs": [
    {
     "data": {
      "text/latex": [
       "$\\displaystyle \\left[\\begin{matrix}- I_{Tz} \\left(- \\left(\\left(- \\left(- \\sin{\\left(\\theta_{2} \\right)} \\sin{\\left(\\theta_{3} \\right)} + \\cos{\\left(\\theta_{2} \\right)} \\cos{\\left(\\theta_{3} \\right)}\\right) \\sin{\\left(\\theta_{1} \\right)} + \\left(- \\sin{\\left(\\theta_{2} \\right)} \\cos{\\left(\\theta_{3} \\right)} - \\sin{\\left(\\theta_{3} \\right)} \\cos{\\left(\\theta_{2} \\right)}\\right) \\cos{\\left(\\theta_{1} \\right)}\\right) \\cos{\\left(\\theta_{1} \\right)} + \\left(\\left(- \\sin{\\left(\\theta_{2} \\right)} \\sin{\\left(\\theta_{3} \\right)} + \\cos{\\left(\\theta_{2} \\right)} \\cos{\\left(\\theta_{3} \\right)}\\right) \\cos{\\left(\\theta_{1} \\right)} + \\left(- \\sin{\\left(\\theta_{2} \\right)} \\cos{\\left(\\theta_{3} \\right)} - \\sin{\\left(\\theta_{3} \\right)} \\cos{\\left(\\theta_{2} \\right)}\\right) \\sin{\\left(\\theta_{1} \\right)}\\right) \\sin{\\left(\\theta_{1} \\right)}\\right) \\omega_{2} - \\left(\\left(- \\left(- \\sin{\\left(\\theta_{2} \\right)} \\sin{\\left(\\theta_{3} \\right)} + \\cos{\\left(\\theta_{2} \\right)} \\cos{\\left(\\theta_{3} \\right)}\\right) \\sin{\\left(\\theta_{1} \\right)} + \\left(- \\sin{\\left(\\theta_{2} \\right)} \\cos{\\left(\\theta_{3} \\right)} - \\sin{\\left(\\theta_{3} \\right)} \\cos{\\left(\\theta_{2} \\right)}\\right) \\cos{\\left(\\theta_{1} \\right)}\\right) \\cos{\\left(\\theta_{1} \\right)} + \\left(\\left(- \\sin{\\left(\\theta_{2} \\right)} \\sin{\\left(\\theta_{3} \\right)} + \\cos{\\left(\\theta_{2} \\right)} \\cos{\\left(\\theta_{3} \\right)}\\right) \\cos{\\left(\\theta_{1} \\right)} + \\left(- \\sin{\\left(\\theta_{2} \\right)} \\cos{\\left(\\theta_{3} \\right)} - \\sin{\\left(\\theta_{3} \\right)} \\cos{\\left(\\theta_{2} \\right)}\\right) \\sin{\\left(\\theta_{1} \\right)}\\right) \\sin{\\left(\\theta_{1} \\right)}\\right) \\omega_{3}\\right) \\left(\\left(\\left(\\left(- \\sin{\\left(\\theta_{2} \\right)} \\sin{\\left(\\theta_{3} \\right)} + \\cos{\\left(\\theta_{2} \\right)} \\cos{\\left(\\theta_{3} \\right)}\\right) \\sin{\\left(\\theta_{1} \\right)} + \\left(\\sin{\\left(\\theta_{2} \\right)} \\cos{\\left(\\theta_{3} \\right)} + \\sin{\\left(\\theta_{3} \\right)} \\cos{\\left(\\theta_{2} \\right)}\\right) \\cos{\\left(\\theta_{1} \\right)}\\right) \\sin{\\left(\\theta_{1} \\right)} + \\left(\\left(- \\sin{\\left(\\theta_{2} \\right)} \\sin{\\left(\\theta_{3} \\right)} + \\cos{\\left(\\theta_{2} \\right)} \\cos{\\left(\\theta_{3} \\right)}\\right) \\cos{\\left(\\theta_{1} \\right)} - \\left(\\sin{\\left(\\theta_{2} \\right)} \\cos{\\left(\\theta_{3} \\right)} + \\sin{\\left(\\theta_{3} \\right)} \\cos{\\left(\\theta_{2} \\right)}\\right) \\sin{\\left(\\theta_{1} \\right)}\\right) \\cos{\\left(\\theta_{1} \\right)}\\right) \\omega_{2} + \\left(\\left(\\left(- \\sin{\\left(\\theta_{2} \\right)} \\sin{\\left(\\theta_{3} \\right)} + \\cos{\\left(\\theta_{2} \\right)} \\cos{\\left(\\theta_{3} \\right)}\\right) \\sin{\\left(\\theta_{1} \\right)} + \\left(\\sin{\\left(\\theta_{2} \\right)} \\cos{\\left(\\theta_{3} \\right)} + \\sin{\\left(\\theta_{3} \\right)} \\cos{\\left(\\theta_{2} \\right)}\\right) \\cos{\\left(\\theta_{1} \\right)}\\right) \\sin{\\left(\\theta_{1} \\right)} + \\left(\\left(- \\sin{\\left(\\theta_{2} \\right)} \\sin{\\left(\\theta_{3} \\right)} + \\cos{\\left(\\theta_{2} \\right)} \\cos{\\left(\\theta_{3} \\right)}\\right) \\cos{\\left(\\theta_{1} \\right)} - \\left(\\sin{\\left(\\theta_{2} \\right)} \\cos{\\left(\\theta_{3} \\right)} + \\sin{\\left(\\theta_{3} \\right)} \\cos{\\left(\\theta_{2} \\right)}\\right) \\sin{\\left(\\theta_{1} \\right)}\\right) \\cos{\\left(\\theta_{1} \\right)}\\right) \\omega_{3}\\right) - I_{Tz} \\left(\\left(\\left(- \\left(- \\sin{\\left(\\theta_{2} \\right)} \\sin{\\left(\\theta_{3} \\right)} + \\cos{\\left(\\theta_{2} \\right)} \\cos{\\left(\\theta_{3} \\right)}\\right) \\sin{\\left(\\theta_{1} \\right)} + \\left(- \\sin{\\left(\\theta_{2} \\right)} \\cos{\\left(\\theta_{3} \\right)} - \\sin{\\left(\\theta_{3} \\right)} \\cos{\\left(\\theta_{2} \\right)}\\right) \\cos{\\left(\\theta_{1} \\right)}\\right) \\cos{\\left(\\theta_{1} \\right)} + \\left(\\left(- \\sin{\\left(\\theta_{2} \\right)} \\sin{\\left(\\theta_{3} \\right)} + \\cos{\\left(\\theta_{2} \\right)} \\cos{\\left(\\theta_{3} \\right)}\\right) \\cos{\\left(\\theta_{1} \\right)} + \\left(- \\sin{\\left(\\theta_{2} \\right)} \\cos{\\left(\\theta_{3} \\right)} - \\sin{\\left(\\theta_{3} \\right)} \\cos{\\left(\\theta_{2} \\right)}\\right) \\sin{\\left(\\theta_{1} \\right)}\\right) \\sin{\\left(\\theta_{1} \\right)}\\right) \\omega_{2} + \\left(\\left(- \\left(- \\sin{\\left(\\theta_{2} \\right)} \\sin{\\left(\\theta_{3} \\right)} + \\cos{\\left(\\theta_{2} \\right)} \\cos{\\left(\\theta_{3} \\right)}\\right) \\sin{\\left(\\theta_{1} \\right)} + \\left(- \\sin{\\left(\\theta_{2} \\right)} \\cos{\\left(\\theta_{3} \\right)} - \\sin{\\left(\\theta_{3} \\right)} \\cos{\\left(\\theta_{2} \\right)}\\right) \\cos{\\left(\\theta_{1} \\right)}\\right) \\cos{\\left(\\theta_{1} \\right)} + \\left(\\left(- \\sin{\\left(\\theta_{2} \\right)} \\sin{\\left(\\theta_{3} \\right)} + \\cos{\\left(\\theta_{2} \\right)} \\cos{\\left(\\theta_{3} \\right)}\\right) \\cos{\\left(\\theta_{1} \\right)} + \\left(- \\sin{\\left(\\theta_{2} \\right)} \\cos{\\left(\\theta_{3} \\right)} - \\sin{\\left(\\theta_{3} \\right)} \\cos{\\left(\\theta_{2} \\right)}\\right) \\sin{\\left(\\theta_{1} \\right)}\\right) \\sin{\\left(\\theta_{1} \\right)}\\right) \\omega_{3}\\right) \\left(\\left(\\left(\\left(- \\sin{\\left(\\theta_{2} \\right)} \\sin{\\left(\\theta_{3} \\right)} + \\cos{\\left(\\theta_{2} \\right)} \\cos{\\left(\\theta_{3} \\right)}\\right) \\sin{\\left(\\theta_{1} \\right)} + \\left(\\sin{\\left(\\theta_{2} \\right)} \\cos{\\left(\\theta_{3} \\right)} + \\sin{\\left(\\theta_{3} \\right)} \\cos{\\left(\\theta_{2} \\right)}\\right) \\cos{\\left(\\theta_{1} \\right)}\\right) \\sin{\\left(\\theta_{1} \\right)} + \\left(\\left(- \\sin{\\left(\\theta_{2} \\right)} \\sin{\\left(\\theta_{3} \\right)} + \\cos{\\left(\\theta_{2} \\right)} \\cos{\\left(\\theta_{3} \\right)}\\right) \\cos{\\left(\\theta_{1} \\right)} - \\left(\\sin{\\left(\\theta_{2} \\right)} \\cos{\\left(\\theta_{3} \\right)} + \\sin{\\left(\\theta_{3} \\right)} \\cos{\\left(\\theta_{2} \\right)}\\right) \\sin{\\left(\\theta_{1} \\right)}\\right) \\cos{\\left(\\theta_{1} \\right)}\\right) \\omega_{2} + \\left(\\left(\\left(- \\sin{\\left(\\theta_{2} \\right)} \\sin{\\left(\\theta_{3} \\right)} + \\cos{\\left(\\theta_{2} \\right)} \\cos{\\left(\\theta_{3} \\right)}\\right) \\sin{\\left(\\theta_{1} \\right)} + \\left(\\sin{\\left(\\theta_{2} \\right)} \\cos{\\left(\\theta_{3} \\right)} + \\sin{\\left(\\theta_{3} \\right)} \\cos{\\left(\\theta_{2} \\right)}\\right) \\cos{\\left(\\theta_{1} \\right)}\\right) \\sin{\\left(\\theta_{1} \\right)} + \\left(\\left(- \\sin{\\left(\\theta_{2} \\right)} \\sin{\\left(\\theta_{3} \\right)} + \\cos{\\left(\\theta_{2} \\right)} \\cos{\\left(\\theta_{3} \\right)}\\right) \\cos{\\left(\\theta_{1} \\right)} - \\left(\\sin{\\left(\\theta_{2} \\right)} \\cos{\\left(\\theta_{3} \\right)} + \\sin{\\left(\\theta_{3} \\right)} \\cos{\\left(\\theta_{2} \\right)}\\right) \\sin{\\left(\\theta_{1} \\right)}\\right) \\cos{\\left(\\theta_{1} \\right)}\\right) \\omega_{3}\\right) - \\left(I_{Lz} + I_{Tz} + I_{Uz}\\right) \\dot{\\omega}_{1} + T_{a}\\\\- \\left(\\left(\\left(- \\sin{\\left(\\theta_{2} \\right)} \\sin{\\left(\\theta_{3} \\right)} + \\cos{\\left(\\theta_{2} \\right)} \\cos{\\left(\\theta_{3} \\right)}\\right) \\sin{\\left(\\theta_{1} \\right)} + \\left(\\sin{\\left(\\theta_{2} \\right)} \\cos{\\left(\\theta_{3} \\right)} + \\sin{\\left(\\theta_{3} \\right)} \\cos{\\left(\\theta_{2} \\right)}\\right) \\cos{\\left(\\theta_{1} \\right)}\\right) \\sin{\\left(\\theta_{1} \\right)} + \\left(\\left(- \\sin{\\left(\\theta_{2} \\right)} \\sin{\\left(\\theta_{3} \\right)} + \\cos{\\left(\\theta_{2} \\right)} \\cos{\\left(\\theta_{3} \\right)}\\right) \\cos{\\left(\\theta_{1} \\right)} - \\left(\\sin{\\left(\\theta_{2} \\right)} \\cos{\\left(\\theta_{3} \\right)} + \\sin{\\left(\\theta_{3} \\right)} \\cos{\\left(\\theta_{2} \\right)}\\right) \\sin{\\left(\\theta_{1} \\right)}\\right) \\cos{\\left(\\theta_{1} \\right)}\\right) \\left(I_{Tz} \\left(- \\left(\\left(- \\left(- \\sin{\\left(\\theta_{2} \\right)} \\sin{\\left(\\theta_{3} \\right)} + \\cos{\\left(\\theta_{2} \\right)} \\cos{\\left(\\theta_{3} \\right)}\\right) \\sin{\\left(\\theta_{1} \\right)} + \\left(- \\sin{\\left(\\theta_{2} \\right)} \\cos{\\left(\\theta_{3} \\right)} - \\sin{\\left(\\theta_{3} \\right)} \\cos{\\left(\\theta_{2} \\right)}\\right) \\cos{\\left(\\theta_{1} \\right)}\\right) \\cos{\\left(\\theta_{1} \\right)} + \\left(\\left(- \\sin{\\left(\\theta_{2} \\right)} \\sin{\\left(\\theta_{3} \\right)} + \\cos{\\left(\\theta_{2} \\right)} \\cos{\\left(\\theta_{3} \\right)}\\right) \\cos{\\left(\\theta_{1} \\right)} + \\left(- \\sin{\\left(\\theta_{2} \\right)} \\cos{\\left(\\theta_{3} \\right)} - \\sin{\\left(\\theta_{3} \\right)} \\cos{\\left(\\theta_{2} \\right)}\\right) \\sin{\\left(\\theta_{1} \\right)}\\right) \\sin{\\left(\\theta_{1} \\right)}\\right) \\omega_{2} - \\left(\\left(- \\left(- \\sin{\\left(\\theta_{2} \\right)} \\sin{\\left(\\theta_{3} \\right)} + \\cos{\\left(\\theta_{2} \\right)} \\cos{\\left(\\theta_{3} \\right)}\\right) \\sin{\\left(\\theta_{1} \\right)} + \\left(- \\sin{\\left(\\theta_{2} \\right)} \\cos{\\left(\\theta_{3} \\right)} - \\sin{\\left(\\theta_{3} \\right)} \\cos{\\left(\\theta_{2} \\right)}\\right) \\cos{\\left(\\theta_{1} \\right)}\\right) \\cos{\\left(\\theta_{1} \\right)} + \\left(\\left(- \\sin{\\left(\\theta_{2} \\right)} \\sin{\\left(\\theta_{3} \\right)} + \\cos{\\left(\\theta_{2} \\right)} \\cos{\\left(\\theta_{3} \\right)}\\right) \\cos{\\left(\\theta_{1} \\right)} + \\left(- \\sin{\\left(\\theta_{2} \\right)} \\cos{\\left(\\theta_{3} \\right)} - \\sin{\\left(\\theta_{3} \\right)} \\cos{\\left(\\theta_{2} \\right)}\\right) \\sin{\\left(\\theta_{1} \\right)}\\right) \\sin{\\left(\\theta_{1} \\right)}\\right) \\omega_{3}\\right) \\omega_{1} + I_{Tz} \\left(\\left(\\left(- \\left(- \\sin{\\left(\\theta_{2} \\right)} \\sin{\\left(\\theta_{3} \\right)} + \\cos{\\left(\\theta_{2} \\right)} \\cos{\\left(\\theta_{3} \\right)}\\right) \\sin{\\left(\\theta_{1} \\right)} + \\left(- \\sin{\\left(\\theta_{2} \\right)} \\cos{\\left(\\theta_{3} \\right)} - \\sin{\\left(\\theta_{3} \\right)} \\cos{\\left(\\theta_{2} \\right)}\\right) \\cos{\\left(\\theta_{1} \\right)}\\right) \\cos{\\left(\\theta_{1} \\right)} + \\left(\\left(- \\sin{\\left(\\theta_{2} \\right)} \\sin{\\left(\\theta_{3} \\right)} + \\cos{\\left(\\theta_{2} \\right)} \\cos{\\left(\\theta_{3} \\right)}\\right) \\cos{\\left(\\theta_{1} \\right)} + \\left(- \\sin{\\left(\\theta_{2} \\right)} \\cos{\\left(\\theta_{3} \\right)} - \\sin{\\left(\\theta_{3} \\right)} \\cos{\\left(\\theta_{2} \\right)}\\right) \\sin{\\left(\\theta_{1} \\right)}\\right) \\sin{\\left(\\theta_{1} \\right)}\\right) \\omega_{2} + \\left(\\left(- \\left(- \\sin{\\left(\\theta_{2} \\right)} \\sin{\\left(\\theta_{3} \\right)} + \\cos{\\left(\\theta_{2} \\right)} \\cos{\\left(\\theta_{3} \\right)}\\right) \\sin{\\left(\\theta_{1} \\right)} + \\left(- \\sin{\\left(\\theta_{2} \\right)} \\cos{\\left(\\theta_{3} \\right)} - \\sin{\\left(\\theta_{3} \\right)} \\cos{\\left(\\theta_{2} \\right)}\\right) \\cos{\\left(\\theta_{1} \\right)}\\right) \\cos{\\left(\\theta_{1} \\right)} + \\left(\\left(- \\sin{\\left(\\theta_{2} \\right)} \\sin{\\left(\\theta_{3} \\right)} + \\cos{\\left(\\theta_{2} \\right)} \\cos{\\left(\\theta_{3} \\right)}\\right) \\cos{\\left(\\theta_{1} \\right)} + \\left(- \\sin{\\left(\\theta_{2} \\right)} \\cos{\\left(\\theta_{3} \\right)} - \\sin{\\left(\\theta_{3} \\right)} \\cos{\\left(\\theta_{2} \\right)}\\right) \\sin{\\left(\\theta_{1} \\right)}\\right) \\sin{\\left(\\theta_{1} \\right)}\\right) \\omega_{3}\\right) \\omega_{1}\\right)\\\\- \\left(\\left(\\left(- \\sin{\\left(\\theta_{2} \\right)} \\sin{\\left(\\theta_{3} \\right)} + \\cos{\\left(\\theta_{2} \\right)} \\cos{\\left(\\theta_{3} \\right)}\\right) \\sin{\\left(\\theta_{1} \\right)} + \\left(\\sin{\\left(\\theta_{2} \\right)} \\cos{\\left(\\theta_{3} \\right)} + \\sin{\\left(\\theta_{3} \\right)} \\cos{\\left(\\theta_{2} \\right)}\\right) \\cos{\\left(\\theta_{1} \\right)}\\right) \\sin{\\left(\\theta_{1} \\right)} + \\left(\\left(- \\sin{\\left(\\theta_{2} \\right)} \\sin{\\left(\\theta_{3} \\right)} + \\cos{\\left(\\theta_{2} \\right)} \\cos{\\left(\\theta_{3} \\right)}\\right) \\cos{\\left(\\theta_{1} \\right)} - \\left(\\sin{\\left(\\theta_{2} \\right)} \\cos{\\left(\\theta_{3} \\right)} + \\sin{\\left(\\theta_{3} \\right)} \\cos{\\left(\\theta_{2} \\right)}\\right) \\sin{\\left(\\theta_{1} \\right)}\\right) \\cos{\\left(\\theta_{1} \\right)}\\right) \\left(I_{Tz} \\left(- \\left(\\left(- \\left(- \\sin{\\left(\\theta_{2} \\right)} \\sin{\\left(\\theta_{3} \\right)} + \\cos{\\left(\\theta_{2} \\right)} \\cos{\\left(\\theta_{3} \\right)}\\right) \\sin{\\left(\\theta_{1} \\right)} + \\left(- \\sin{\\left(\\theta_{2} \\right)} \\cos{\\left(\\theta_{3} \\right)} - \\sin{\\left(\\theta_{3} \\right)} \\cos{\\left(\\theta_{2} \\right)}\\right) \\cos{\\left(\\theta_{1} \\right)}\\right) \\cos{\\left(\\theta_{1} \\right)} + \\left(\\left(- \\sin{\\left(\\theta_{2} \\right)} \\sin{\\left(\\theta_{3} \\right)} + \\cos{\\left(\\theta_{2} \\right)} \\cos{\\left(\\theta_{3} \\right)}\\right) \\cos{\\left(\\theta_{1} \\right)} + \\left(- \\sin{\\left(\\theta_{2} \\right)} \\cos{\\left(\\theta_{3} \\right)} - \\sin{\\left(\\theta_{3} \\right)} \\cos{\\left(\\theta_{2} \\right)}\\right) \\sin{\\left(\\theta_{1} \\right)}\\right) \\sin{\\left(\\theta_{1} \\right)}\\right) \\omega_{2} - \\left(\\left(- \\left(- \\sin{\\left(\\theta_{2} \\right)} \\sin{\\left(\\theta_{3} \\right)} + \\cos{\\left(\\theta_{2} \\right)} \\cos{\\left(\\theta_{3} \\right)}\\right) \\sin{\\left(\\theta_{1} \\right)} + \\left(- \\sin{\\left(\\theta_{2} \\right)} \\cos{\\left(\\theta_{3} \\right)} - \\sin{\\left(\\theta_{3} \\right)} \\cos{\\left(\\theta_{2} \\right)}\\right) \\cos{\\left(\\theta_{1} \\right)}\\right) \\cos{\\left(\\theta_{1} \\right)} + \\left(\\left(- \\sin{\\left(\\theta_{2} \\right)} \\sin{\\left(\\theta_{3} \\right)} + \\cos{\\left(\\theta_{2} \\right)} \\cos{\\left(\\theta_{3} \\right)}\\right) \\cos{\\left(\\theta_{1} \\right)} + \\left(- \\sin{\\left(\\theta_{2} \\right)} \\cos{\\left(\\theta_{3} \\right)} - \\sin{\\left(\\theta_{3} \\right)} \\cos{\\left(\\theta_{2} \\right)}\\right) \\sin{\\left(\\theta_{1} \\right)}\\right) \\sin{\\left(\\theta_{1} \\right)}\\right) \\omega_{3}\\right) \\omega_{1} + I_{Tz} \\left(\\left(\\left(- \\left(- \\sin{\\left(\\theta_{2} \\right)} \\sin{\\left(\\theta_{3} \\right)} + \\cos{\\left(\\theta_{2} \\right)} \\cos{\\left(\\theta_{3} \\right)}\\right) \\sin{\\left(\\theta_{1} \\right)} + \\left(- \\sin{\\left(\\theta_{2} \\right)} \\cos{\\left(\\theta_{3} \\right)} - \\sin{\\left(\\theta_{3} \\right)} \\cos{\\left(\\theta_{2} \\right)}\\right) \\cos{\\left(\\theta_{1} \\right)}\\right) \\cos{\\left(\\theta_{1} \\right)} + \\left(\\left(- \\sin{\\left(\\theta_{2} \\right)} \\sin{\\left(\\theta_{3} \\right)} + \\cos{\\left(\\theta_{2} \\right)} \\cos{\\left(\\theta_{3} \\right)}\\right) \\cos{\\left(\\theta_{1} \\right)} + \\left(- \\sin{\\left(\\theta_{2} \\right)} \\cos{\\left(\\theta_{3} \\right)} - \\sin{\\left(\\theta_{3} \\right)} \\cos{\\left(\\theta_{2} \\right)}\\right) \\sin{\\left(\\theta_{1} \\right)}\\right) \\sin{\\left(\\theta_{1} \\right)}\\right) \\omega_{2} + \\left(\\left(- \\left(- \\sin{\\left(\\theta_{2} \\right)} \\sin{\\left(\\theta_{3} \\right)} + \\cos{\\left(\\theta_{2} \\right)} \\cos{\\left(\\theta_{3} \\right)}\\right) \\sin{\\left(\\theta_{1} \\right)} + \\left(- \\sin{\\left(\\theta_{2} \\right)} \\cos{\\left(\\theta_{3} \\right)} - \\sin{\\left(\\theta_{3} \\right)} \\cos{\\left(\\theta_{2} \\right)}\\right) \\cos{\\left(\\theta_{1} \\right)}\\right) \\cos{\\left(\\theta_{1} \\right)} + \\left(\\left(- \\sin{\\left(\\theta_{2} \\right)} \\sin{\\left(\\theta_{3} \\right)} + \\cos{\\left(\\theta_{2} \\right)} \\cos{\\left(\\theta_{3} \\right)}\\right) \\cos{\\left(\\theta_{1} \\right)} + \\left(- \\sin{\\left(\\theta_{2} \\right)} \\cos{\\left(\\theta_{3} \\right)} - \\sin{\\left(\\theta_{3} \\right)} \\cos{\\left(\\theta_{2} \\right)}\\right) \\sin{\\left(\\theta_{1} \\right)}\\right) \\sin{\\left(\\theta_{1} \\right)}\\right) \\omega_{3}\\right) \\omega_{1}\\right)\\end{matrix}\\right]$"
      ],
      "text/plain": [
       "⎡-I_Tz⋅(-((-(-sin(θ₂)⋅sin(θ₃) + cos(θ₂)⋅cos(θ₃))⋅sin(θ₁) + (-sin(θ₂)⋅cos(θ₃) -\n",
       "⎢                                                                             \n",
       "⎢                                                                             \n",
       "⎢                                                                             \n",
       "⎣                                                                             \n",
       "\n",
       " sin(θ₃)⋅cos(θ₂))⋅cos(θ₁))⋅cos(θ₁) + ((-sin(θ₂)⋅sin(θ₃) + cos(θ₂)⋅cos(θ₃))⋅cos\n",
       "                                                                              \n",
       "                                                                              \n",
       "                                                                              \n",
       "                                                                              \n",
       "\n",
       "(θ₁) + (-sin(θ₂)⋅cos(θ₃) - sin(θ₃)⋅cos(θ₂))⋅sin(θ₁))⋅sin(θ₁))⋅ω₂ - ((-(-sin(θ₂\n",
       "                                                                              \n",
       "                                                                              \n",
       "                                                                              \n",
       "                                                                              \n",
       "\n",
       ")⋅sin(θ₃) + cos(θ₂)⋅cos(θ₃))⋅sin(θ₁) + (-sin(θ₂)⋅cos(θ₃) - sin(θ₃)⋅cos(θ₂))⋅co\n",
       "                                                                              \n",
       "                                                                              \n",
       "                                                                              \n",
       "                                                                              \n",
       "\n",
       "s(θ₁))⋅cos(θ₁) + ((-sin(θ₂)⋅sin(θ₃) + cos(θ₂)⋅cos(θ₃))⋅cos(θ₁) + (-sin(θ₂)⋅cos\n",
       "                                                                              \n",
       "                   -(((-sin(θ₂)⋅sin(θ₃) + cos(θ₂)⋅cos(θ₃))⋅sin(θ₁) + (sin(θ₂)⋅\n",
       "                                                                              \n",
       "                   -(((-sin(θ₂)⋅sin(θ₃) + cos(θ₂)⋅cos(θ₃))⋅sin(θ₁) + (sin(θ₂)⋅\n",
       "\n",
       "(θ₃) - sin(θ₃)⋅cos(θ₂))⋅sin(θ₁))⋅sin(θ₁))⋅ω₃)⋅((((-sin(θ₂)⋅sin(θ₃) + cos(θ₂)⋅c\n",
       "                                                                              \n",
       "cos(θ₃) + sin(θ₃)⋅cos(θ₂))⋅cos(θ₁))⋅sin(θ₁) + ((-sin(θ₂)⋅sin(θ₃) + cos(θ₂)⋅cos\n",
       "                                                                              \n",
       "cos(θ₃) + sin(θ₃)⋅cos(θ₂))⋅cos(θ₁))⋅sin(θ₁) + ((-sin(θ₂)⋅sin(θ₃) + cos(θ₂)⋅cos\n",
       "\n",
       "os(θ₃))⋅sin(θ₁) + (sin(θ₂)⋅cos(θ₃) + sin(θ₃)⋅cos(θ₂))⋅cos(θ₁))⋅sin(θ₁) + ((-si\n",
       "                                                                              \n",
       "(θ₃))⋅cos(θ₁) - (sin(θ₂)⋅cos(θ₃) + sin(θ₃)⋅cos(θ₂))⋅sin(θ₁))⋅cos(θ₁))⋅(I_Tz⋅(-\n",
       "                                                                              \n",
       "(θ₃))⋅cos(θ₁) - (sin(θ₂)⋅cos(θ₃) + sin(θ₃)⋅cos(θ₂))⋅sin(θ₁))⋅cos(θ₁))⋅(I_Tz⋅(-\n",
       "\n",
       "n(θ₂)⋅sin(θ₃) + cos(θ₂)⋅cos(θ₃))⋅cos(θ₁) - (sin(θ₂)⋅cos(θ₃) + sin(θ₃)⋅cos(θ₂))\n",
       "                                                                              \n",
       "((-(-sin(θ₂)⋅sin(θ₃) + cos(θ₂)⋅cos(θ₃))⋅sin(θ₁) + (-sin(θ₂)⋅cos(θ₃) - sin(θ₃)⋅\n",
       "                                                                              \n",
       "((-(-sin(θ₂)⋅sin(θ₃) + cos(θ₂)⋅cos(θ₃))⋅sin(θ₁) + (-sin(θ₂)⋅cos(θ₃) - sin(θ₃)⋅\n",
       "\n",
       "⋅sin(θ₁))⋅cos(θ₁))⋅ω₂ + (((-sin(θ₂)⋅sin(θ₃) + cos(θ₂)⋅cos(θ₃))⋅sin(θ₁) + (sin(\n",
       "                                                                              \n",
       "cos(θ₂))⋅cos(θ₁))⋅cos(θ₁) + ((-sin(θ₂)⋅sin(θ₃) + cos(θ₂)⋅cos(θ₃))⋅cos(θ₁) + (-\n",
       "                                                                              \n",
       "cos(θ₂))⋅cos(θ₁))⋅cos(θ₁) + ((-sin(θ₂)⋅sin(θ₃) + cos(θ₂)⋅cos(θ₃))⋅cos(θ₁) + (-\n",
       "\n",
       "θ₂)⋅cos(θ₃) + sin(θ₃)⋅cos(θ₂))⋅cos(θ₁))⋅sin(θ₁) + ((-sin(θ₂)⋅sin(θ₃) + cos(θ₂)\n",
       "                                                                              \n",
       "sin(θ₂)⋅cos(θ₃) - sin(θ₃)⋅cos(θ₂))⋅sin(θ₁))⋅sin(θ₁))⋅ω₂ - ((-(-sin(θ₂)⋅sin(θ₃)\n",
       "                                                                              \n",
       "sin(θ₂)⋅cos(θ₃) - sin(θ₃)⋅cos(θ₂))⋅sin(θ₁))⋅sin(θ₁))⋅ω₂ - ((-(-sin(θ₂)⋅sin(θ₃)\n",
       "\n",
       "⋅cos(θ₃))⋅cos(θ₁) - (sin(θ₂)⋅cos(θ₃) + sin(θ₃)⋅cos(θ₂))⋅sin(θ₁))⋅cos(θ₁))⋅ω₃) \n",
       "                                                                              \n",
       " + cos(θ₂)⋅cos(θ₃))⋅sin(θ₁) + (-sin(θ₂)⋅cos(θ₃) - sin(θ₃)⋅cos(θ₂))⋅cos(θ₁))⋅co\n",
       "                                                                              \n",
       " + cos(θ₂)⋅cos(θ₃))⋅sin(θ₁) + (-sin(θ₂)⋅cos(θ₃) - sin(θ₃)⋅cos(θ₂))⋅cos(θ₁))⋅co\n",
       "\n",
       "- I_Tz⋅(((-(-sin(θ₂)⋅sin(θ₃) + cos(θ₂)⋅cos(θ₃))⋅sin(θ₁) + (-sin(θ₂)⋅cos(θ₃) - \n",
       "                                                                              \n",
       "s(θ₁) + ((-sin(θ₂)⋅sin(θ₃) + cos(θ₂)⋅cos(θ₃))⋅cos(θ₁) + (-sin(θ₂)⋅cos(θ₃) - si\n",
       "                                                                              \n",
       "s(θ₁) + ((-sin(θ₂)⋅sin(θ₃) + cos(θ₂)⋅cos(θ₃))⋅cos(θ₁) + (-sin(θ₂)⋅cos(θ₃) - si\n",
       "\n",
       "sin(θ₃)⋅cos(θ₂))⋅cos(θ₁))⋅cos(θ₁) + ((-sin(θ₂)⋅sin(θ₃) + cos(θ₂)⋅cos(θ₃))⋅cos(\n",
       "                                                                              \n",
       "n(θ₃)⋅cos(θ₂))⋅sin(θ₁))⋅sin(θ₁))⋅ω₃)⋅ω₁ + I_Tz⋅(((-(-sin(θ₂)⋅sin(θ₃) + cos(θ₂)\n",
       "                                                                              \n",
       "n(θ₃)⋅cos(θ₂))⋅sin(θ₁))⋅sin(θ₁))⋅ω₃)⋅ω₁ + I_Tz⋅(((-(-sin(θ₂)⋅sin(θ₃) + cos(θ₂)\n",
       "\n",
       "θ₁) + (-sin(θ₂)⋅cos(θ₃) - sin(θ₃)⋅cos(θ₂))⋅sin(θ₁))⋅sin(θ₁))⋅ω₂ + ((-(-sin(θ₂)\n",
       "                                                                              \n",
       "⋅cos(θ₃))⋅sin(θ₁) + (-sin(θ₂)⋅cos(θ₃) - sin(θ₃)⋅cos(θ₂))⋅cos(θ₁))⋅cos(θ₁) + ((\n",
       "                                                                              \n",
       "⋅cos(θ₃))⋅sin(θ₁) + (-sin(θ₂)⋅cos(θ₃) - sin(θ₃)⋅cos(θ₂))⋅cos(θ₁))⋅cos(θ₁) + ((\n",
       "\n",
       "⋅sin(θ₃) + cos(θ₂)⋅cos(θ₃))⋅sin(θ₁) + (-sin(θ₂)⋅cos(θ₃) - sin(θ₃)⋅cos(θ₂))⋅cos\n",
       "                                                                              \n",
       "-sin(θ₂)⋅sin(θ₃) + cos(θ₂)⋅cos(θ₃))⋅cos(θ₁) + (-sin(θ₂)⋅cos(θ₃) - sin(θ₃)⋅cos(\n",
       "                                                                              \n",
       "-sin(θ₂)⋅sin(θ₃) + cos(θ₂)⋅cos(θ₃))⋅cos(θ₁) + (-sin(θ₂)⋅cos(θ₃) - sin(θ₃)⋅cos(\n",
       "\n",
       "(θ₁))⋅cos(θ₁) + ((-sin(θ₂)⋅sin(θ₃) + cos(θ₂)⋅cos(θ₃))⋅cos(θ₁) + (-sin(θ₂)⋅cos(\n",
       "                                                                              \n",
       "θ₂))⋅sin(θ₁))⋅sin(θ₁))⋅ω₂ + ((-(-sin(θ₂)⋅sin(θ₃) + cos(θ₂)⋅cos(θ₃))⋅sin(θ₁) + \n",
       "                                                                              \n",
       "θ₂))⋅sin(θ₁))⋅sin(θ₁))⋅ω₂ + ((-(-sin(θ₂)⋅sin(θ₃) + cos(θ₂)⋅cos(θ₃))⋅sin(θ₁) + \n",
       "\n",
       "θ₃) - sin(θ₃)⋅cos(θ₂))⋅sin(θ₁))⋅sin(θ₁))⋅ω₃)⋅((((-sin(θ₂)⋅sin(θ₃) + cos(θ₂)⋅co\n",
       "                                                                              \n",
       "(-sin(θ₂)⋅cos(θ₃) - sin(θ₃)⋅cos(θ₂))⋅cos(θ₁))⋅cos(θ₁) + ((-sin(θ₂)⋅sin(θ₃) + c\n",
       "                                                                              \n",
       "(-sin(θ₂)⋅cos(θ₃) - sin(θ₃)⋅cos(θ₂))⋅cos(θ₁))⋅cos(θ₁) + ((-sin(θ₂)⋅sin(θ₃) + c\n",
       "\n",
       "s(θ₃))⋅sin(θ₁) + (sin(θ₂)⋅cos(θ₃) + sin(θ₃)⋅cos(θ₂))⋅cos(θ₁))⋅sin(θ₁) + ((-sin\n",
       "                                                                              \n",
       "os(θ₂)⋅cos(θ₃))⋅cos(θ₁) + (-sin(θ₂)⋅cos(θ₃) - sin(θ₃)⋅cos(θ₂))⋅sin(θ₁))⋅sin(θ₁\n",
       "                                                                              \n",
       "os(θ₂)⋅cos(θ₃))⋅cos(θ₁) + (-sin(θ₂)⋅cos(θ₃) - sin(θ₃)⋅cos(θ₂))⋅sin(θ₁))⋅sin(θ₁\n",
       "\n",
       "(θ₂)⋅sin(θ₃) + cos(θ₂)⋅cos(θ₃))⋅cos(θ₁) - (sin(θ₂)⋅cos(θ₃) + sin(θ₃)⋅cos(θ₂))⋅\n",
       "                                                                              \n",
       "))⋅ω₃)⋅ω₁)                                                                    \n",
       "                                                                              \n",
       "))⋅ω₃)⋅ω₁)                                                                    \n",
       "\n",
       "sin(θ₁))⋅cos(θ₁))⋅ω₂ + (((-sin(θ₂)⋅sin(θ₃) + cos(θ₂)⋅cos(θ₃))⋅sin(θ₁) + (sin(θ\n",
       "                                                                              \n",
       "                                                                              \n",
       "                                                                              \n",
       "                                                                              \n",
       "\n",
       "₂)⋅cos(θ₃) + sin(θ₃)⋅cos(θ₂))⋅cos(θ₁))⋅sin(θ₁) + ((-sin(θ₂)⋅sin(θ₃) + cos(θ₂)⋅\n",
       "                                                                              \n",
       "                                                                              \n",
       "                                                                              \n",
       "                                                                              \n",
       "\n",
       "cos(θ₃))⋅cos(θ₁) - (sin(θ₂)⋅cos(θ₃) + sin(θ₃)⋅cos(θ₂))⋅sin(θ₁))⋅cos(θ₁))⋅ω₃) -\n",
       "                                                                              \n",
       "                                                                              \n",
       "                                                                              \n",
       "                                                                              \n",
       "\n",
       " (I_Lz + I_Tz + I_Uz)⋅ω₁̇ + Tₐ⎤\n",
       "                             ⎥\n",
       "                             ⎥\n",
       "                             ⎥\n",
       "                             ⎦"
      ]
     },
     "execution_count": 22,
     "metadata": {},
     "output_type": "execute_result"
    }
   ],
   "source": [
    "method = me.JointsMethod(boat, angle_joint, knee_joint, hip_joint)\n",
    "method.form_eoms()\n",
    "# print(method.mass_matrix_full)\n",
    "# print(method.forcing_full)"
   ]
  },
  {
   "cell_type": "code",
   "execution_count": 23,
   "id": "59ebf36a-9d2b-4867-a600-77083582e90d",
   "metadata": {},
   "outputs": [],
   "source": [
    "t = me.dynamicsymbols._t"
   ]
  },
  {
   "cell_type": "code",
   "execution_count": 24,
   "id": "501869a2-84e6-47da-8453-7d616a71bfd3",
   "metadata": {},
   "outputs": [],
   "source": [
    "from pydy.system import System\n",
    "import numpy as np"
   ]
  },
  {
   "cell_type": "code",
   "execution_count": 25,
   "id": "e3c655d7-4531-4e4e-8c9b-64eb74a84c4b",
   "metadata": {},
   "outputs": [],
   "source": [
    "sys = System(method._method)"
   ]
  },
  {
   "cell_type": "code",
   "execution_count": 26,
   "id": "169bfca0-1801-4cd9-b10c-0c76c81aad5a",
   "metadata": {},
   "outputs": [
    {
     "ename": "ValueError",
     "evalue": "Symbol T_k(t) is not a 'specified' symbol.",
     "output_type": "error",
     "traceback": [
      "\u001b[1;31m---------------------------------------------------------------------------\u001b[0m",
      "\u001b[1;31mValueError\u001b[0m                                Traceback (most recent call last)",
      "Cell \u001b[1;32mIn[26], line 3\u001b[0m\n\u001b[0;32m      1\u001b[0m sys\u001b[38;5;241m.\u001b[39mtimes \u001b[38;5;241m=\u001b[39m np\u001b[38;5;241m.\u001b[39mlinspace(\u001b[38;5;241m0.0\u001b[39m, \u001b[38;5;241m3\u001b[39m, num\u001b[38;5;241m=\u001b[39m\u001b[38;5;241m100\u001b[39m)\n\u001b[0;32m      2\u001b[0m sys\u001b[38;5;241m.\u001b[39mloads \u001b[38;5;241m=\u001b[39m method\u001b[38;5;241m.\u001b[39mloads\n\u001b[1;32m----> 3\u001b[0m \u001b[43msys\u001b[49m\u001b[38;5;241;43m.\u001b[39;49m\u001b[43mspecifieds\u001b[49m \u001b[38;5;241m=\u001b[39m {\n\u001b[0;32m      4\u001b[0m     ankle_torque: \u001b[38;5;28;01mlambda\u001b[39;00m x: \u001b[38;5;241m0\u001b[39m,\n\u001b[0;32m      5\u001b[0m     knee_torque: \u001b[38;5;28;01mlambda\u001b[39;00m x: \u001b[38;5;241m0\u001b[39m,\n\u001b[0;32m      6\u001b[0m     hip_torque: \u001b[38;5;28;01mlambda\u001b[39;00m x: \u001b[38;5;241m0\u001b[39m,\n\u001b[0;32m      7\u001b[0m }\n",
      "File \u001b[1;32m~\\.pyenv\\pyenv-win\\versions\\3.11.3\\Lib\\site-packages\\pydy\\system.py:247\u001b[0m, in \u001b[0;36mSystem.specifieds\u001b[1;34m(self, specifieds)\u001b[0m\n\u001b[0;32m    245\u001b[0m \u001b[38;5;129m@specifieds\u001b[39m\u001b[38;5;241m.\u001b[39msetter\n\u001b[0;32m    246\u001b[0m \u001b[38;5;28;01mdef\u001b[39;00m \u001b[38;5;21mspecifieds\u001b[39m(\u001b[38;5;28mself\u001b[39m, specifieds):\n\u001b[1;32m--> 247\u001b[0m     \u001b[38;5;28;43mself\u001b[39;49m\u001b[38;5;241;43m.\u001b[39;49m\u001b[43m_check_specifieds\u001b[49m\u001b[43m(\u001b[49m\u001b[43mspecifieds\u001b[49m\u001b[43m)\u001b[49m\n\u001b[0;32m    248\u001b[0m     \u001b[38;5;28mself\u001b[39m\u001b[38;5;241m.\u001b[39m_specifieds \u001b[38;5;241m=\u001b[39m specifieds\n",
      "File \u001b[1;32m~\\.pyenv\\pyenv-win\\versions\\3.11.3\\Lib\\site-packages\\pydy\\system.py:304\u001b[0m, in \u001b[0;36mSystem._check_specifieds\u001b[1;34m(self, specifieds)\u001b[0m\n\u001b[0;32m    302\u001b[0m         \u001b[38;5;28mself\u001b[39m\u001b[38;5;241m.\u001b[39m_assert_is_specified_symbol(ki, symbols)\n\u001b[0;32m    303\u001b[0m \u001b[38;5;28;01melse\u001b[39;00m:\n\u001b[1;32m--> 304\u001b[0m     \u001b[38;5;28;43mself\u001b[39;49m\u001b[38;5;241;43m.\u001b[39;49m\u001b[43m_assert_is_specified_symbol\u001b[49m\u001b[43m(\u001b[49m\u001b[43mk\u001b[49m\u001b[43m,\u001b[49m\u001b[43m \u001b[49m\u001b[43msymbols\u001b[49m\u001b[43m)\u001b[49m\n\u001b[0;32m    306\u001b[0m \u001b[38;5;66;03m# Each specified symbol can appear only once.\u001b[39;00m\n\u001b[0;32m    307\u001b[0m \u001b[38;5;28;01mif\u001b[39;00m \u001b[38;5;28misinstance\u001b[39m(k, \u001b[38;5;28mtuple\u001b[39m):\n",
      "File \u001b[1;32m~\\.pyenv\\pyenv-win\\versions\\3.11.3\\Lib\\site-packages\\pydy\\system.py:258\u001b[0m, in \u001b[0;36mSystem._assert_is_specified_symbol\u001b[1;34m(self, symbol, all_symbols)\u001b[0m\n\u001b[0;32m    256\u001b[0m \u001b[38;5;28;01mdef\u001b[39;00m \u001b[38;5;21m_assert_is_specified_symbol\u001b[39m(\u001b[38;5;28mself\u001b[39m, symbol, all_symbols):\n\u001b[0;32m    257\u001b[0m     \u001b[38;5;28;01mif\u001b[39;00m symbol \u001b[38;5;129;01mnot\u001b[39;00m \u001b[38;5;129;01min\u001b[39;00m all_symbols:\n\u001b[1;32m--> 258\u001b[0m         \u001b[38;5;28;01mraise\u001b[39;00m \u001b[38;5;167;01mValueError\u001b[39;00m(\u001b[38;5;124m\"\u001b[39m\u001b[38;5;124mSymbol \u001b[39m\u001b[38;5;132;01m{}\u001b[39;00m\u001b[38;5;124m is not a \u001b[39m\u001b[38;5;124m'\u001b[39m\u001b[38;5;124mspecified\u001b[39m\u001b[38;5;124m'\u001b[39m\u001b[38;5;124m symbol.\u001b[39m\u001b[38;5;124m\"\u001b[39m\u001b[38;5;241m.\u001b[39mformat(\n\u001b[0;32m    259\u001b[0m             symbol))\n",
      "\u001b[1;31mValueError\u001b[0m: Symbol T_k(t) is not a 'specified' symbol."
     ]
    }
   ],
   "source": [
    "sys.times = np.linspace(0.0, 3, num=100)\n",
    "sys.loads = method.loads\n",
    "sys.specifieds = {\n",
    "    ankle_torque: lambda x: 0,\n",
    "    knee_torque: lambda x: 0,\n",
    "    hip_torque: lambda x: 0,\n",
    "}"
   ]
  },
  {
   "cell_type": "code",
   "execution_count": 27,
   "id": "44fe935a-92d8-4a4e-98c9-907200484ebf",
   "metadata": {},
   "outputs": [
    {
     "ename": "LinAlgError",
     "evalue": "Singular matrix",
     "output_type": "error",
     "traceback": [
      "\u001b[1;31m---------------------------------------------------------------------------\u001b[0m",
      "\u001b[1;31mLinAlgError\u001b[0m                               Traceback (most recent call last)",
      "Cell \u001b[1;32mIn[27], line 1\u001b[0m\n\u001b[1;32m----> 1\u001b[0m x \u001b[38;5;241m=\u001b[39m \u001b[43msys\u001b[49m\u001b[38;5;241;43m.\u001b[39;49m\u001b[43mintegrate\u001b[49m\u001b[43m(\u001b[49m\u001b[43m)\u001b[49m\n",
      "File \u001b[1;32m~\\.pyenv\\pyenv-win\\versions\\3.11.3\\Lib\\site-packages\\pydy\\system.py:539\u001b[0m, in \u001b[0;36mSystem.integrate\u001b[1;34m(self, **solver_kwargs)\u001b[0m\n\u001b[0;32m    536\u001b[0m \u001b[38;5;28;01melse\u001b[39;00m:\n\u001b[0;32m    537\u001b[0m     args \u001b[38;5;241m=\u001b[39m (specified_value, \u001b[38;5;28mself\u001b[39m\u001b[38;5;241m.\u001b[39m_constants_padded_with_defaults())\n\u001b[1;32m--> 539\u001b[0m x_history \u001b[38;5;241m=\u001b[39m \u001b[38;5;28;43mself\u001b[39;49m\u001b[38;5;241;43m.\u001b[39;49m\u001b[43mode_solver\u001b[49m\u001b[43m(\u001b[49m\n\u001b[0;32m    540\u001b[0m \u001b[43m    \u001b[49m\u001b[38;5;28;43mself\u001b[39;49m\u001b[38;5;241;43m.\u001b[39;49m\u001b[43mevaluate_ode_function\u001b[49m\u001b[43m,\u001b[49m\n\u001b[0;32m    541\u001b[0m \u001b[43m    \u001b[49m\u001b[43minitial_conditions_in_proper_order\u001b[49m\u001b[43m,\u001b[49m\n\u001b[0;32m    542\u001b[0m \u001b[43m    \u001b[49m\u001b[38;5;28;43mself\u001b[39;49m\u001b[38;5;241;43m.\u001b[39;49m\u001b[43mtimes\u001b[49m\u001b[43m,\u001b[49m\n\u001b[0;32m    543\u001b[0m \u001b[43m    \u001b[49m\u001b[43margs\u001b[49m\u001b[38;5;241;43m=\u001b[39;49m\u001b[43margs\u001b[49m\u001b[43m,\u001b[49m\u001b[43m \u001b[49m\u001b[38;5;241;43m*\u001b[39;49m\u001b[38;5;241;43m*\u001b[39;49m\u001b[43msolver_kwargs\u001b[49m\u001b[43m)\u001b[49m\n\u001b[0;32m    545\u001b[0m \u001b[38;5;28;01mreturn\u001b[39;00m x_history\n",
      "File \u001b[1;32m~\\.pyenv\\pyenv-win\\versions\\3.11.3\\Lib\\site-packages\\scipy\\integrate\\_odepack_py.py:242\u001b[0m, in \u001b[0;36modeint\u001b[1;34m(func, y0, t, args, Dfun, col_deriv, full_output, ml, mu, rtol, atol, tcrit, h0, hmax, hmin, ixpr, mxstep, mxhnil, mxordn, mxords, printmessg, tfirst)\u001b[0m\n\u001b[0;32m    240\u001b[0m t \u001b[38;5;241m=\u001b[39m copy(t)\n\u001b[0;32m    241\u001b[0m y0 \u001b[38;5;241m=\u001b[39m copy(y0)\n\u001b[1;32m--> 242\u001b[0m output \u001b[38;5;241m=\u001b[39m \u001b[43m_odepack\u001b[49m\u001b[38;5;241;43m.\u001b[39;49m\u001b[43modeint\u001b[49m\u001b[43m(\u001b[49m\u001b[43mfunc\u001b[49m\u001b[43m,\u001b[49m\u001b[43m \u001b[49m\u001b[43my0\u001b[49m\u001b[43m,\u001b[49m\u001b[43m \u001b[49m\u001b[43mt\u001b[49m\u001b[43m,\u001b[49m\u001b[43m \u001b[49m\u001b[43margs\u001b[49m\u001b[43m,\u001b[49m\u001b[43m \u001b[49m\u001b[43mDfun\u001b[49m\u001b[43m,\u001b[49m\u001b[43m \u001b[49m\u001b[43mcol_deriv\u001b[49m\u001b[43m,\u001b[49m\u001b[43m \u001b[49m\u001b[43mml\u001b[49m\u001b[43m,\u001b[49m\u001b[43m \u001b[49m\u001b[43mmu\u001b[49m\u001b[43m,\u001b[49m\n\u001b[0;32m    243\u001b[0m \u001b[43m                         \u001b[49m\u001b[43mfull_output\u001b[49m\u001b[43m,\u001b[49m\u001b[43m \u001b[49m\u001b[43mrtol\u001b[49m\u001b[43m,\u001b[49m\u001b[43m \u001b[49m\u001b[43matol\u001b[49m\u001b[43m,\u001b[49m\u001b[43m \u001b[49m\u001b[43mtcrit\u001b[49m\u001b[43m,\u001b[49m\u001b[43m \u001b[49m\u001b[43mh0\u001b[49m\u001b[43m,\u001b[49m\u001b[43m \u001b[49m\u001b[43mhmax\u001b[49m\u001b[43m,\u001b[49m\u001b[43m \u001b[49m\u001b[43mhmin\u001b[49m\u001b[43m,\u001b[49m\n\u001b[0;32m    244\u001b[0m \u001b[43m                         \u001b[49m\u001b[43mixpr\u001b[49m\u001b[43m,\u001b[49m\u001b[43m \u001b[49m\u001b[43mmxstep\u001b[49m\u001b[43m,\u001b[49m\u001b[43m \u001b[49m\u001b[43mmxhnil\u001b[49m\u001b[43m,\u001b[49m\u001b[43m \u001b[49m\u001b[43mmxordn\u001b[49m\u001b[43m,\u001b[49m\u001b[43m \u001b[49m\u001b[43mmxords\u001b[49m\u001b[43m,\u001b[49m\n\u001b[0;32m    245\u001b[0m \u001b[43m                         \u001b[49m\u001b[38;5;28;43mint\u001b[39;49m\u001b[43m(\u001b[49m\u001b[38;5;28;43mbool\u001b[39;49m\u001b[43m(\u001b[49m\u001b[43mtfirst\u001b[49m\u001b[43m)\u001b[49m\u001b[43m)\u001b[49m\u001b[43m)\u001b[49m\n\u001b[0;32m    246\u001b[0m \u001b[38;5;28;01mif\u001b[39;00m output[\u001b[38;5;241m-\u001b[39m\u001b[38;5;241m1\u001b[39m] \u001b[38;5;241m<\u001b[39m \u001b[38;5;241m0\u001b[39m:\n\u001b[0;32m    247\u001b[0m     warning_msg \u001b[38;5;241m=\u001b[39m _msgs[output[\u001b[38;5;241m-\u001b[39m\u001b[38;5;241m1\u001b[39m]] \u001b[38;5;241m+\u001b[39m \u001b[38;5;124m\"\u001b[39m\u001b[38;5;124m Run with full_output = 1 to get quantitative information.\u001b[39m\u001b[38;5;124m\"\u001b[39m\n",
      "File \u001b[1;32m~\\.pyenv\\pyenv-win\\versions\\3.11.3\\Lib\\site-packages\\pydy\\codegen\\ode_function_generators.py:491\u001b[0m, in \u001b[0;36mODEFunctionGenerator._create_rhs_function.<locals>.rhs\u001b[1;34m(*args)\u001b[0m\n\u001b[0;32m    488\u001b[0m u \u001b[38;5;241m=\u001b[39m args[\u001b[38;5;241m0\u001b[39m][\u001b[38;5;28mself\u001b[39m\u001b[38;5;241m.\u001b[39mnum_coordinates:]\n\u001b[0;32m    490\u001b[0m \u001b[38;5;28;01mif\u001b[39;00m \u001b[38;5;28mself\u001b[39m\u001b[38;5;241m.\u001b[39mconstants:\n\u001b[1;32m--> 491\u001b[0m     xdot \u001b[38;5;241m=\u001b[39m \u001b[38;5;28;43mself\u001b[39;49m\u001b[38;5;241;43m.\u001b[39;49m\u001b[43m_base_rhs\u001b[49m\u001b[43m(\u001b[49m\u001b[43mq\u001b[49m\u001b[43m,\u001b[49m\u001b[43m \u001b[49m\u001b[43mu\u001b[49m\u001b[43m,\u001b[49m\u001b[43m \u001b[49m\u001b[38;5;241;43m*\u001b[39;49m\u001b[43margs\u001b[49m\u001b[43m[\u001b[49m\u001b[38;5;241;43m2\u001b[39;49m\u001b[43m:\u001b[49m\u001b[43m]\u001b[49m\u001b[43m)\u001b[49m\n\u001b[0;32m    492\u001b[0m \u001b[38;5;28;01melse\u001b[39;00m:\n\u001b[0;32m    493\u001b[0m     xdot \u001b[38;5;241m=\u001b[39m \u001b[38;5;28mself\u001b[39m\u001b[38;5;241m.\u001b[39m_base_rhs(q, u, \u001b[38;5;241m*\u001b[39m(args[\u001b[38;5;241m2\u001b[39m:\u001b[38;5;241m3\u001b[39m] \u001b[38;5;241m+\u001b[39m ([],)))\n",
      "File \u001b[1;32m~\\.pyenv\\pyenv-win\\versions\\3.11.3\\Lib\\site-packages\\pydy\\codegen\\ode_function_generators.py:564\u001b[0m, in \u001b[0;36mODEFunctionGenerator._create_base_rhs_function.<locals>.base_rhs\u001b[1;34m(*args)\u001b[0m\n\u001b[0;32m    561\u001b[0m \u001b[38;5;28;01mdef\u001b[39;00m \u001b[38;5;21mbase_rhs\u001b[39m(\u001b[38;5;241m*\u001b[39margs):\n\u001b[0;32m    563\u001b[0m     M, F \u001b[38;5;241m=\u001b[39m \u001b[38;5;28mself\u001b[39m\u001b[38;5;241m.\u001b[39meval_arrays(\u001b[38;5;241m*\u001b[39margs)\n\u001b[1;32m--> 564\u001b[0m     \u001b[38;5;28;01mreturn\u001b[39;00m \u001b[38;5;28;43mself\u001b[39;49m\u001b[38;5;241;43m.\u001b[39;49m\u001b[43m_solve_linear_system\u001b[49m\u001b[43m(\u001b[49m\u001b[43mM\u001b[49m\u001b[43m,\u001b[49m\u001b[43m \u001b[49m\u001b[43mF\u001b[49m\u001b[43m)\u001b[49m\n",
      "File \u001b[1;32m~\\.pyenv\\pyenv-win\\versions\\3.11.3\\Lib\\site-packages\\numpy\\linalg\\linalg.py:409\u001b[0m, in \u001b[0;36msolve\u001b[1;34m(a, b)\u001b[0m\n\u001b[0;32m    407\u001b[0m signature \u001b[38;5;241m=\u001b[39m \u001b[38;5;124m'\u001b[39m\u001b[38;5;124mDD->D\u001b[39m\u001b[38;5;124m'\u001b[39m \u001b[38;5;28;01mif\u001b[39;00m isComplexType(t) \u001b[38;5;28;01melse\u001b[39;00m \u001b[38;5;124m'\u001b[39m\u001b[38;5;124mdd->d\u001b[39m\u001b[38;5;124m'\u001b[39m\n\u001b[0;32m    408\u001b[0m extobj \u001b[38;5;241m=\u001b[39m get_linalg_error_extobj(_raise_linalgerror_singular)\n\u001b[1;32m--> 409\u001b[0m r \u001b[38;5;241m=\u001b[39m \u001b[43mgufunc\u001b[49m\u001b[43m(\u001b[49m\u001b[43ma\u001b[49m\u001b[43m,\u001b[49m\u001b[43m \u001b[49m\u001b[43mb\u001b[49m\u001b[43m,\u001b[49m\u001b[43m \u001b[49m\u001b[43msignature\u001b[49m\u001b[38;5;241;43m=\u001b[39;49m\u001b[43msignature\u001b[49m\u001b[43m,\u001b[49m\u001b[43m \u001b[49m\u001b[43mextobj\u001b[49m\u001b[38;5;241;43m=\u001b[39;49m\u001b[43mextobj\u001b[49m\u001b[43m)\u001b[49m\n\u001b[0;32m    411\u001b[0m \u001b[38;5;28;01mreturn\u001b[39;00m wrap(r\u001b[38;5;241m.\u001b[39mastype(result_t, copy\u001b[38;5;241m=\u001b[39m\u001b[38;5;28;01mFalse\u001b[39;00m))\n",
      "File \u001b[1;32m~\\.pyenv\\pyenv-win\\versions\\3.11.3\\Lib\\site-packages\\numpy\\linalg\\linalg.py:112\u001b[0m, in \u001b[0;36m_raise_linalgerror_singular\u001b[1;34m(err, flag)\u001b[0m\n\u001b[0;32m    111\u001b[0m \u001b[38;5;28;01mdef\u001b[39;00m \u001b[38;5;21m_raise_linalgerror_singular\u001b[39m(err, flag):\n\u001b[1;32m--> 112\u001b[0m     \u001b[38;5;28;01mraise\u001b[39;00m LinAlgError(\u001b[38;5;124m\"\u001b[39m\u001b[38;5;124mSingular matrix\u001b[39m\u001b[38;5;124m\"\u001b[39m)\n",
      "\u001b[1;31mLinAlgError\u001b[0m: Singular matrix"
     ]
    }
   ],
   "source": [
    "x = sys.integrate()"
   ]
  },
  {
   "cell_type": "code",
   "execution_count": null,
   "id": "2cfa03d3-4d00-4508-b604-b2b5c5c8e7fc",
   "metadata": {},
   "outputs": [],
   "source": []
  }
 ],
 "metadata": {
  "kernelspec": {
   "display_name": "Python 3 (ipykernel)",
   "language": "python",
   "name": "python3"
  },
  "language_info": {
   "codemirror_mode": {
    "name": "ipython",
    "version": 3
   },
   "file_extension": ".py",
   "mimetype": "text/x-python",
   "name": "python",
   "nbconvert_exporter": "python",
   "pygments_lexer": "ipython3",
   "version": "3.11.3"
  }
 },
 "nbformat": 4,
 "nbformat_minor": 5
}
