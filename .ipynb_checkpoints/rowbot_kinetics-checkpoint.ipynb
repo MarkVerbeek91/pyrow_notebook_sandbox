{
 "cells": [
  {
   "cell_type": "markdown",
   "id": "8b557df8-fcf8-4425-a25b-ba33c6762a2e",
   "metadata": {},
   "source": [
    "# Rowing Robot "
   ]
  },
  {
   "cell_type": "code",
   "execution_count": null,
   "id": "67fcb8a9-a3cf-49cc-a83a-ac14bf8f9fed",
   "metadata": {},
   "outputs": [],
   "source": [
    "import sympy as sm\n",
    "import sympy.physics.mechanics as me\n",
    "me.init_vprinting()"
   ]
  },
  {
   "cell_type": "markdown",
   "id": "1e9aff35-b698-4294-a264-60ea127e21c4",
   "metadata": {},
   "source": [
    "# Setting variables"
   ]
  },
  {
   "cell_type": "code",
   "execution_count": null,
   "id": "a2136d8b-7c1d-489b-ac56-2878e00b21d1",
   "metadata": {},
   "outputs": [],
   "source": [
    "q1, q2, q3 = me.dynamicsymbols('q1:4')\n",
    "u1, u2, u3 = me.dynamicsymbols('u1:4')\n",
    "lower_leg_length, upper_leg_length = sm.symbols('l_L, l_U')\n",
    "m1, m2, m3, g = sm.symbols('m1, m2, m3, g')\n",
    "\n",
    "theta1, theta2, theta3 = me.dynamicsymbols('theta1, theta2, theta3')\n",
    "\n",
    "ankle_torque, knee_torque, hip_torque = me.dynamicsymbols('T_a, T_k, T_h')"
   ]
  },
  {
   "cell_type": "code",
   "execution_count": null,
   "id": "4aef2d0b-9afa-4c44-83fb-7963a0643d40",
   "metadata": {},
   "outputs": [],
   "source": [
    "inertial_frame = me.ReferenceFrame('N')  # boat\n",
    "lower_leg_frame = me.ReferenceFrame('L')  # lower leg\n",
    "upper_leg_frame = me.ReferenceFrame('U')  # upper leg \n",
    "torso_frame = me.ReferenceFrame('T')  # head"
   ]
  },
  {
   "cell_type": "code",
   "execution_count": null,
   "id": "3060d9e3-5821-4077-877b-f3aafd960c68",
   "metadata": {},
   "outputs": [],
   "source": [
    "lower_leg_frame.orient(inertial_frame, 'Axis', (theta1, inertial_frame.z))\n",
    "upper_leg_frame.orient(lower_leg_frame, 'Axis', (theta2, lower_leg_frame.z))\n",
    "torso_frame.orient(upper_leg_frame, 'Axis', (theta3, upper_leg_frame.z))"
   ]
  },
  {
   "cell_type": "code",
   "execution_count": null,
   "id": "0f845e26-94d4-4461-b553-ba58ac4e9ccc",
   "metadata": {},
   "outputs": [],
   "source": [
    "sm.simplify(torso_frame.dcm(inertial_frame))"
   ]
  },
  {
   "cell_type": "markdown",
   "id": "5e275470-09b9-4f88-91a4-a716fc0222ed",
   "metadata": {},
   "source": [
    "## Configuration Constrains (joints)"
   ]
  },
  {
   "cell_type": "code",
   "execution_count": null,
   "id": "03039bdd-fa74-4328-8d72-a0b36c2b1bf2",
   "metadata": {},
   "outputs": [],
   "source": [
    "ankle = me.Point('A')\n",
    "knee = me.Point('K')\n",
    "hip = me.Point('H')\n",
    "head = me.Point('N')  # N for Noggin"
   ]
  },
  {
   "cell_type": "code",
   "execution_count": null,
   "id": "d48ca32c-b478-4061-a4b7-694789ea04a7",
   "metadata": {},
   "outputs": [],
   "source": [
    "knee.set_pos(ankle, lower_leg_length * lower_leg_frame.y)\n",
    "hip.set_pos(knee, upper_leg_length * upper_leg_frame.y)\n",
    "head.set_pos(hip, 2 * torso_com_length * torso_frame.y)"
   ]
  },
  {
   "cell_type": "markdown",
   "id": "aefb39f1-4693-4ede-b7a8-3b03db2bb4e3",
   "metadata": {},
   "source": [
    "## Configuration Constrains (joints)"
   ]
  },
  {
   "cell_type": "code",
   "execution_count": null,
   "id": "65ff87eb-ba93-40e7-8f1b-99cce6c64ecc",
   "metadata": {},
   "outputs": [],
   "source": [
    "lower_leg_com_length, upper_leg_com_length, torso_com_length = sm.symbols('d_L, d_U, d_T')\n",
    "\n",
    "lower_leg_mass_center = me.Point('L_o')\n",
    "lower_leg_mass_center.set_pos(ankle, lower_leg_com_length * lower_leg_frame.y)\n",
    "lower_leg_mass_center.pos_from(ankle)\n",
    "\n",
    "upper_leg_mass_center = me.Point('U_o')\n",
    "upper_leg_mass_center.set_pos(knee, upper_leg_com_length * upper_leg_frame.y)\n",
    "upper_leg_mass_center.pos_from(ankle)\n",
    "\n",
    "torso_mass_center = me.Point('T_o')\n",
    "torso_mass_center.set_pos(hip, torso_com_length * torso_frame.y)\n",
    "torso_mass_center.pos_from(ankle)"
   ]
  },
  {
   "cell_type": "markdown",
   "id": "39a7f6f7-2e01-482c-8199-5f19f7897ea9",
   "metadata": {},
   "source": [
    "# Configuration Constrains (aka 'rowers build')"
   ]
  },
  {
   "cell_type": "markdown",
   "id": "e33bdce8-c70f-40ea-8e2d-aa81f13f3f8f",
   "metadata": {},
   "source": [
    "loop: link feet, knee, hip and head. by means of lower leg, upper leg and body.\n"
   ]
  },
  {
   "cell_type": "code",
   "execution_count": null,
   "id": "e4bb3f88-b0b5-4474-bff5-ef0da6bc693f",
   "metadata": {},
   "outputs": [],
   "source": [
    "# loop_angle2hip = P3.pos_from(P1)\n",
    "#loop_angle2hip"
   ]
  },
  {
   "cell_type": "code",
   "execution_count": null,
   "id": "c4e539ad-0622-47a4-b79f-753d5b217df3",
   "metadata": {},
   "outputs": [],
   "source": [
    "#config_angle2hip = loop_angle2hip.dot(N.y).simplify()\n",
    "#config_angle2hip"
   ]
  },
  {
   "cell_type": "code",
   "execution_count": null,
   "id": "58a39e60-5c6a-4314-a8e4-9f29b6747d93",
   "metadata": {},
   "outputs": [],
   "source": [
    "#loop_angle2head = P4.pos_from(P1)\n",
    "#config_angle2head = loop_angle2head.dot(N.y).simplify()\n",
    "#config_angle2head"
   ]
  },
  {
   "cell_type": "markdown",
   "id": "f1e1013f-d5f6-4319-a390-6f0a387a015a",
   "metadata": {},
   "source": [
    "# Kinematics Differential Equations"
   ]
  },
  {
   "cell_type": "markdown",
   "id": "17a8bdd8-3198-4542-8615-11a32669009c",
   "metadata": {},
   "source": [
    "### Generalized Velocities"
   ]
  },
  {
   "cell_type": "code",
   "execution_count": null,
   "id": "5f58f777-f3b7-4160-b3f9-27b73e957295",
   "metadata": {},
   "outputs": [],
   "source": [
    "omega1, omega2, omega3 = me.dynamicsymbols('omega1, omega2, omega3')\n",
    "kinematical_differential_equations = [omega1 - theta1.diff(),\n",
    "                                      omega2 - theta2.diff(),\n",
    "                                      omega3 - theta3.diff()]"
   ]
  },
  {
   "cell_type": "code",
   "execution_count": null,
   "id": "9712ad04-1e6e-42b0-a592-0c77e295d733",
   "metadata": {},
   "outputs": [],
   "source": [
    "qdots = {q.diff(): u for q, u in zip((q1, q2, q3), (u1, u2, u3))}\n",
    "qdots"
   ]
  },
  {
   "cell_type": "markdown",
   "id": "2db258ca-f0d3-453d-a894-2926eaa730f7",
   "metadata": {},
   "source": [
    "### Angular Velocities"
   ]
  },
  {
   "cell_type": "code",
   "execution_count": null,
   "id": "2a0f1dfe-38ff-4f3d-9bd1-2ec055875952",
   "metadata": {},
   "outputs": [],
   "source": [
    "lower_leg_frame.set_ang_vel(inertial_frame, omega1 * inertial_frame.z)\n",
    "lower_leg_frame.ang_vel_in(inertial_frame)\n",
    "\n",
    "upper_leg_frame.set_ang_vel(lower_leg_frame, omega2 * inertial_frame.z)\n",
    "upper_leg_frame.ang_vel_in(inertial_frame)\n",
    "\n",
    "torso_frame.set_ang_vel(upper_leg_frame, omega3 * inertial_frame.z)\n",
    "torso_frame.ang_vel_in(inertial_frame)"
   ]
  },
  {
   "cell_type": "markdown",
   "id": "aa565817-ec73-4e83-bd09-85c1b8c5f3f9",
   "metadata": {},
   "source": [
    "### Linear Velocities"
   ]
  },
  {
   "cell_type": "code",
   "execution_count": null,
   "id": "bcc626ed-80ae-426a-87f6-43de2f36df10",
   "metadata": {},
   "outputs": [],
   "source": [
    "ankle.set_vel(inertial_frame, 0)\n",
    "lower_leg_mass_center.v2pt_theory(ankle, inertial_frame, lower_leg_frame)\n",
    "knee.v2pt_theory(ankle, inertial_frame, lower_leg_frame)\n",
    "upper_leg_mass_center.v2pt_theory(knee, inertial_frame, upper_leg_frame)\n",
    "hip.v2pt_theory(knee, inertial_frame, upper_leg_frame)\n",
    "torso_mass_center.v2pt_theory(hip, inertial_frame, torso_frame)"
   ]
  },
  {
   "cell_type": "markdown",
   "id": "f29ec20f-2caa-400d-953f-378bb3355af4",
   "metadata": {},
   "source": [
    "# Velocities in Terms of the Generalized Speeds"
   ]
  },
  {
   "cell_type": "code",
   "execution_count": null,
   "id": "ae1f8d6b-4335-4a5f-9fc4-7905e54f18ef",
   "metadata": {},
   "outputs": [],
   "source": [
    "# A.set_ang_vel(N, u1*N.z)\n",
    "# B.set_ang_vel(A, -u2*A.z)\n",
    "# C.set_ang_vel(B, -u3*B.z)"
   ]
  },
  {
   "cell_type": "code",
   "execution_count": null,
   "id": "3fcb23ed-429e-486f-851b-a96c3570f7d1",
   "metadata": {},
   "outputs": [],
   "source": [
    "# P1.set_vel(N, 0)\n",
    "# P1.vel(N)"
   ]
  },
  {
   "cell_type": "code",
   "execution_count": null,
   "id": "3400d7a7-beb1-4199-ac9a-e6e41daa9a7e",
   "metadata": {},
   "outputs": [],
   "source": [
    "# P2.v2pt_theory(P1, N, A)\n",
    "# P4.v2pt_theory(P3, N, C)"
   ]
  },
  {
   "cell_type": "markdown",
   "id": "9154455b-85f6-4ef2-baa5-d94c322fc1a9",
   "metadata": {},
   "source": [
    "# Inertia"
   ]
  },
  {
   "cell_type": "markdown",
   "id": "e7e79f74-4778-4619-b5d1-4369cb09f9cc",
   "metadata": {},
   "source": [
    "## Mass"
   ]
  },
  {
   "cell_type": "code",
   "execution_count": null,
   "id": "6ccb95fd-e5ed-4288-8eee-c4393fe12988",
   "metadata": {},
   "outputs": [],
   "source": [
    "lower_leg_mass, upper_leg_mass, torso_mass = sm.symbols('m_L, m_U, m_T')"
   ]
  },
  {
   "cell_type": "markdown",
   "id": "876e5ccd-2c45-4096-8fcf-964ab8db85f0",
   "metadata": {},
   "source": [
    "## Inertia"
   ]
  },
  {
   "cell_type": "code",
   "execution_count": null,
   "id": "6a41df6a-d416-4f7f-a911-c732d81159af",
   "metadata": {},
   "outputs": [],
   "source": [
    "lower_leg_inertia, upper_leg_inertia, torso_inertia = sm.symbols('I_Lz, I_Uz, I_Tz')"
   ]
  },
  {
   "cell_type": "code",
   "execution_count": null,
   "id": "bbf3b0f0-f824-444e-9d6d-4b5d85eccdf8",
   "metadata": {},
   "outputs": [],
   "source": [
    "lower_leg_inertia_dyadic = me.inertia(lower_leg_frame, 0, 0, lower_leg_inertia)\n",
    "lower_leg_central_inertia = (lower_leg_inertia_dyadic, lower_leg_mass_center)\n",
    "\n",
    "upper_leg_inertia_dyadic = me.inertia(upper_leg_frame, 0, 0, upper_leg_inertia)\n",
    "upper_leg_central_inertia = (upper_leg_inertia_dyadic, upper_leg_mass_center)\n",
    "\n",
    "torso_inertia_dyadic = me.inertia(torso_frame, 0, 0, torso_inertia)\n",
    "torso_central_inertia = (torso_inertia_dyadic, torso_mass_center)"
   ]
  },
  {
   "cell_type": "markdown",
   "id": "dcc001c2-ee45-4dc2-a2d8-85ed74b7b8d5",
   "metadata": {},
   "source": [
    "## Rigig Bodies"
   ]
  },
  {
   "cell_type": "code",
   "execution_count": null,
   "id": "6473a871-38eb-4050-b4de-f0cfb81f4153",
   "metadata": {},
   "outputs": [],
   "source": [
    "lower_leg = me.RigidBody('Lower Leg', lower_leg_mass_center, lower_leg_frame,\n",
    "                      lower_leg_mass, lower_leg_central_inertia)\n",
    "upper_leg = me.RigidBody('Upper Leg', upper_leg_mass_center, upper_leg_frame,\n",
    "                      upper_leg_mass, upper_leg_central_inertia)\n",
    "\n",
    "torso = me.RigidBody('Torso', torso_mass_center, torso_frame,\n",
    "                  torso_mass, torso_central_inertia)"
   ]
  },
  {
   "cell_type": "markdown",
   "id": "cdd13f5d-3c60-48b9-8ac7-89692b49d04a",
   "metadata": {},
   "source": [
    "# Kinetics"
   ]
  },
  {
   "cell_type": "code",
   "execution_count": null,
   "id": "0488d8c4-8342-4ebf-8731-14c93e5402f7",
   "metadata": {},
   "outputs": [],
   "source": [
    "lower_leg_grav_force = (lower_leg_mass_center, -lower_leg_mass * g * inertial_frame.y)\n",
    "upper_leg_grav_force = (upper_leg_mass_center, -upper_leg_mass * g * inertial_frame.y)\n",
    "torso_grav_force = (torso_mass_center, -torso_mass * g * inertial_frame.y)"
   ]
  },
  {
   "cell_type": "markdown",
   "id": "1ee6b13e-3c72-442e-8349-ea8222e9311f",
   "metadata": {},
   "source": [
    "## Joint Torques"
   ]
  },
  {
   "cell_type": "code",
   "execution_count": null,
   "id": "93dfb691-c56a-43fb-8a62-47b9e17cc332",
   "metadata": {},
   "outputs": [],
   "source": [
    "lower_leg_torque = (lower_leg_frame, ankle_torque * inertial_frame.z - knee_torque * inertial_frame.z)\n",
    "upper_leg_torque = (upper_leg_frame, knee_torque * inertial_frame.z - hip_torque * inertial_frame.z)\n",
    "torso_torque = (torso_frame, hip_torque * inertial_frame.z)"
   ]
  },
  {
   "cell_type": "markdown",
   "id": "2043fca9-e98d-4815-8616-bb0088097417",
   "metadata": {},
   "source": [
    "# Motion Constrains (aka 'seat configuration')"
   ]
  },
  {
   "cell_type": "markdown",
   "id": "d2debdb3-0e59-4de1-bfb3-79f27c66895c",
   "metadata": {},
   "source": [
    "Have the hips fixed to the bench, aka only movement in x-direction."
   ]
  },
  {
   "cell_type": "code",
   "execution_count": null,
   "id": "0efa4fed-0ff4-43ab-bacb-dfdf48b5a408",
   "metadata": {},
   "outputs": [],
   "source": [
    "# motion_contraint_hip = P3.vel(N).dot(N.x).simplify()"
   ]
  },
  {
   "cell_type": "code",
   "execution_count": null,
   "id": "3800cb4a-ff51-40b4-9574-a25683e22e40",
   "metadata": {},
   "outputs": [],
   "source": [
    "# t = me.dynamicsymbols._t"
   ]
  },
  {
   "cell_type": "code",
   "execution_count": null,
   "id": "af4218c8-aa61-4de8-9f98-48027fdfe5e2",
   "metadata": {},
   "outputs": [],
   "source": [
    "# config_constrain_angle2hip_dot = config_angle2hip.diff(t).subs(qdots)\n",
    "# config_constrain_angle2hip_dot"
   ]
  },
  {
   "cell_type": "code",
   "execution_count": null,
   "id": "b16ae5ee-7143-442d-8e69-22a39a14a36c",
   "metadata": {},
   "outputs": [],
   "source": [
    "# A.ang_acc_in(N)"
   ]
  },
  {
   "cell_type": "code",
   "execution_count": null,
   "id": "51ff0919-254e-49b8-ad62-df98c6c361dc",
   "metadata": {},
   "outputs": [],
   "source": [
    "# P2.acc(N)\n",
    "# P3.acc(N)\n",
    "# P4.acc(N)"
   ]
  },
  {
   "cell_type": "markdown",
   "id": "baac4ca0-851b-418c-aeea-695ece2640f0",
   "metadata": {},
   "source": [
    "# Description of system"
   ]
  },
  {
   "cell_type": "code",
   "execution_count": null,
   "id": "e5ad91e5-6845-4e68-a5e7-ca1bf652461b",
   "metadata": {},
   "outputs": [],
   "source": [
    "kwargs = dict(\n",
    "    q_ind=[theta1, theta2, theta3], # independent generalized coordinates\n",
    "    u_ind=[omega1, omega2, omega3], # independent generalized speed\n",
    "    kd_eqs=kinematical_differential_equations, # q' = u for all coordinates\n",
    ")\n",
    "\n",
    "kane = me.KanesMethod(inertial_frame, # inertial reference frame\n",
    "                     **kwargs)"
   ]
  },
  {
   "cell_type": "code",
   "execution_count": null,
   "id": "435993dd-48e1-485b-ba0b-74f27f5f5e6e",
   "metadata": {},
   "outputs": [],
   "source": [
    "bodies = [lower_leg, upper_leg, torso]"
   ]
  },
  {
   "cell_type": "code",
   "execution_count": null,
   "id": "abde2fca-7149-402e-be06-60b307e7434d",
   "metadata": {},
   "outputs": [],
   "source": [
    "loads = [lower_leg_grav_force,\n",
    "         upper_leg_grav_force,\n",
    "         torso_grav_force, \n",
    "         lower_leg_torque,\n",
    "         upper_leg_torque,\n",
    "         torso_torque]"
   ]
  },
  {
   "cell_type": "code",
   "execution_count": null,
   "id": "006fd092-c397-4e4d-beda-aa22ab851fbb",
   "metadata": {},
   "outputs": [],
   "source": [
    "fr, frstar = kane.kanes_equations(bodies, loads=loads)"
   ]
  },
  {
   "cell_type": "code",
   "execution_count": null,
   "id": "619b0c2a-464f-4940-9955-584e8d627dd6",
   "metadata": {},
   "outputs": [],
   "source": [
    "# sm.trigsimp(fr + frstar)"
   ]
  },
  {
   "cell_type": "markdown",
   "id": "dc52226c-f74b-4a49-a5b3-169e2aa672db",
   "metadata": {},
   "source": [
    "# Solving and plotting"
   ]
  },
  {
   "cell_type": "code",
   "execution_count": null,
   "id": "750ed251-c46d-4fd7-afc9-6730aa109acf",
   "metadata": {},
   "outputs": [],
   "source": [
    "import numpy as np\n",
    "from scipy.optimize import fsolve\n",
    "from pydy.system import System"
   ]
  },
  {
   "cell_type": "code",
   "execution_count": null,
   "id": "5f089b56-8299-4938-a627-3fadca4d9367",
   "metadata": {},
   "outputs": [],
   "source": [
    "duration = 5.0\n",
    "fps = 30.0\n",
    "times = np.linspace(0.0, duration, num=int(fps*duration))"
   ]
  },
  {
   "cell_type": "code",
   "execution_count": null,
   "id": "cb55c250-f848-49d0-9e1f-b09e9ba40541",
   "metadata": {},
   "outputs": [],
   "source": [
    "sys = System(kane, times=times)"
   ]
  },
  {
   "cell_type": "code",
   "execution_count": null,
   "id": "2fcb8da5-6b1b-4719-8795-f9a5f9f59f00",
   "metadata": {},
   "outputs": [],
   "source": [
    "def step_pulse(x, t):\n",
    "    if t < 2.0:\n",
    "        T = 5.0\n",
    "    else:\n",
    "        T = 0.0\n",
    "    return np.array([0.0])"
   ]
  },
  {
   "cell_type": "code",
   "execution_count": null,
   "id": "e2243b65-b1c5-40de-a2f4-2855c47435f9",
   "metadata": {},
   "outputs": [],
   "source": [
    "constants = {lower_leg_length: 0.611,\n",
    "             lower_leg_com_length: 0.387,\n",
    "             lower_leg_mass: 6.769,\n",
    "             lower_leg_inertia: 0.101,\n",
    "             upper_leg_length: 0.424,\n",
    "             upper_leg_com_length: 0.193,\n",
    "             upper_leg_mass: 17.01,\n",
    "             upper_leg_inertia: 0.282,\n",
    "             torso_com_length: 0.305,\n",
    "             torso_mass: 32.44,\n",
    "             torso_inertia: 1.485,\n",
    "             g: 9.81}\n",
    "\n",
    "sys.constants = constants"
   ]
  },
  {
   "cell_type": "code",
   "execution_count": null,
   "id": "15410289-0dfb-46e9-b0ac-91b487e01dc7",
   "metadata": {},
   "outputs": [],
   "source": [
    "# q1_0 = np.deg2rad(90.0)\n",
    "# q2_0 = np.deg2rad(120.0)\n",
    "# q3_0 = np.deg2rad(90.0)\n",
    "# q1_0 = np.deg2rad(0.0)\n",
    "# q2_0 = np.deg2rad(0.0)\n",
    "# q3_0 = np.deg2rad(0.0)"
   ]
  },
  {
   "cell_type": "code",
   "execution_count": null,
   "id": "e7b750cb-e012-4d45-9606-60670ba27fd6",
   "metadata": {},
   "outputs": [],
   "source": [
    "sys.initial_conditions = {theta1: np.deg2rad(0.0),\n",
    "                          theta2: np.deg2rad(-120.0),\n",
    "                          theta3: np.deg2rad(120.0),\n",
    "                          omega1: .0,\n",
    "                          omega2: .0,\n",
    "                          omega3: .0,\n",
    "                         }"
   ]
  },
  {
   "cell_type": "code",
   "execution_count": null,
   "id": "151d2c49-0081-4d6e-9e7f-8602ea9e284b",
   "metadata": {},
   "outputs": [],
   "source": [
    "sys.specifieds = {ankle_torque: step_pulse, knee_torque: step_pulse, hip_torque: step_pulse}"
   ]
  },
  {
   "cell_type": "code",
   "execution_count": null,
   "id": "5f6aedca-ee64-49fd-bbcc-13d67f5ab9dd",
   "metadata": {},
   "outputs": [],
   "source": [
    "x = sys.integrate()"
   ]
  },
  {
   "cell_type": "code",
   "execution_count": null,
   "id": "8a128913-09a9-4170-9370-67af3686891d",
   "metadata": {},
   "outputs": [],
   "source": [
    "import matplotlib.pyplot as plt"
   ]
  },
  {
   "cell_type": "code",
   "execution_count": null,
   "id": "3fdd9544-d174-495c-9e01-75f53cf1baf3",
   "metadata": {},
   "outputs": [],
   "source": [
    "fig, axes = plt.subplots(3, 2, sharex=True)\n",
    "fig.set_size_inches(10, 10)\n",
    "\n",
    "for i, (xi, ax, s) in enumerate(zip(x.T, axes.T.flatten(), sys.states)):\n",
    "    ax.plot(sys.times, np.rad2deg(xi))\n",
    "    title = sm.latex(s, mode='inline')\n",
    "    ax.set_title(title)\n",
    "    if 'q' in title:\n",
    "        ax.set_ylabel('Angle [deg]')\n",
    "    else:\n",
    "        ax.set_ylabel('Angular Rate [deg/s]')\n",
    "\n",
    "axes[1, 0].set_xlabel('Time [s]')\n",
    "axes[1, 1].set_xlabel('Time [s]')\n",
    "\n",
    "plt.tight_layout()"
   ]
  },
  {
   "cell_type": "markdown",
   "id": "2df3f050-beda-40a2-9f5d-a3a88ceaad80",
   "metadata": {},
   "source": [
    "# Animation"
   ]
  },
  {
   "cell_type": "code",
   "execution_count": null,
   "id": "3168734d-2d45-4f0b-9262-500d6a295fdb",
   "metadata": {},
   "outputs": [],
   "source": [
    "from matplotlib.animation import FuncAnimation\n",
    "from IPython.display import HTML"
   ]
  },
  {
   "cell_type": "code",
   "execution_count": null,
   "id": "0f68caff-236a-454c-9806-f0777ae98a2f",
   "metadata": {},
   "outputs": [],
   "source": [
    "knee.pos_from(ankle).express(inertial_frame).simplify()"
   ]
  },
  {
   "cell_type": "code",
   "execution_count": null,
   "id": "3d7bae36-3b1d-492e-a557-8b5396aecbf1",
   "metadata": {},
   "outputs": [],
   "source": [
    "hip.pos_from(knee).express(inertial_frame).simplify()"
   ]
  },
  {
   "cell_type": "code",
   "execution_count": null,
   "id": "616079fd-9231-4804-9992-9dfd8d145931",
   "metadata": {},
   "outputs": [],
   "source": [
    "head.pos_from(hip).express(inertial_frame).simplify()\n"
   ]
  },
  {
   "cell_type": "code",
   "execution_count": null,
   "id": "70ac0713-8f68-4343-9713-a0414c15ecf2",
   "metadata": {},
   "outputs": [],
   "source": [
    "q1_vals = x[:, 0]\n",
    "q2_vals = x[:, 1]\n",
    "q3_vals = x[:, 2]\n",
    "\n",
    "p2_xy = np.array([-constants[lower_leg_length]*np.sin(q1_vals),\n",
    "                   constants[lower_leg_length]*np.cos(q1_vals)])\n",
    "\n",
    "p3_xy = p2_xy + np.array([-constants[upper_leg_length]*np.sin(q1_vals + q2_vals),\n",
    "                          constants[upper_leg_length]*np.cos(q1_vals + q2_vals)])\n",
    "\n",
    "p4_xy = p3_xy + np.array([-2 * constants[torso_com_length]*np.sin(q1_vals + q2_vals + q3_vals),\n",
    "                           2 * constants[torso_com_length]*np.cos(q1_vals + q2_vals + q3_vals)])\n",
    "\n"
   ]
  },
  {
   "cell_type": "code",
   "execution_count": null,
   "id": "6e0b21f4-7740-416c-997e-950fdc6f2bdc",
   "metadata": {},
   "outputs": [],
   "source": [
    "fig, ax = plt.subplots()\n",
    "fig.set_size_inches((6, 5))\n",
    "line, = ax.plot([0.0, p2_xy[0, 0], p3_xy[0, 0], p4_xy[0, 0]],\n",
    "                [0.0, p2_xy[1, 0], p3_xy[1, 0], p4_xy[1, 0]])\n",
    "title = 'Time = {:0.1f} seconds'\n",
    "ax.set_title(title.format(0.0))\n",
    "ax.set_ylim((-2.0, 2.0))\n",
    "ax.set_xlim((-2.0, 2.0))\n",
    "ax.set_aspect('equal')"
   ]
  },
  {
   "cell_type": "code",
   "execution_count": null,
   "id": "48d961e1-4162-4acd-86f5-c77aee4f5b0a",
   "metadata": {},
   "outputs": [],
   "source": [
    "def update(i):\n",
    "    xdata = [0.0, p2_xy[0, i], p3_xy[0, i], p4_xy[0, i]]\n",
    "    ydata = [0.0, p2_xy[1, i], p3_xy[1, i], p4_xy[1, i]]\n",
    "    line.set_data(xdata, ydata)\n",
    "    ax.set_title(title.format(sys.times[i]))\n",
    "    return line,\n",
    "\n",
    "ani = FuncAnimation(fig, update, save_count=len(sys.times))"
   ]
  },
  {
   "cell_type": "code",
   "execution_count": null,
   "id": "30b3bf4c-618a-476b-8d31-37e8ffcb7bce",
   "metadata": {},
   "outputs": [],
   "source": [
    "HTML(ani.to_jshtml(fps=fps))"
   ]
  },
  {
   "cell_type": "code",
   "execution_count": null,
   "id": "578769d6-d35c-42c5-a1a4-e5d1cf0f8dc9",
   "metadata": {},
   "outputs": [],
   "source": []
  }
 ],
 "metadata": {
  "kernelspec": {
   "display_name": "Python 3 (ipykernel)",
   "language": "python",
   "name": "python3"
  },
  "language_info": {
   "codemirror_mode": {
    "name": "ipython",
    "version": 3
   },
   "file_extension": ".py",
   "mimetype": "text/x-python",
   "name": "python",
   "nbconvert_exporter": "python",
   "pygments_lexer": "ipython3",
   "version": "3.11.3"
  }
 },
 "nbformat": 4,
 "nbformat_minor": 5
}
